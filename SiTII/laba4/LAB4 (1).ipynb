{
 "cells": [
  {
   "cell_type": "code",
   "execution_count": 22,
   "metadata": {
    "id": "32f46a5b-6262-4451-8851-91e6712391b4",
    "ExecuteTime": {
     "end_time": "2023-12-17T08:48:17.244317800Z",
     "start_time": "2023-12-17T08:48:17.108924400Z"
    }
   },
   "outputs": [],
   "source": [
    "import pandas as pd"
   ],
   "id": "32f46a5b-6262-4451-8851-91e6712391b4"
  },
  {
   "cell_type": "code",
   "execution_count": 23,
   "metadata": {
    "id": "ca9e002f-a5d2-4d0f-bc7d-acb4c758087d",
    "ExecuteTime": {
     "end_time": "2023-12-17T08:48:17.262720200Z",
     "start_time": "2023-12-17T08:48:17.250717700Z"
    }
   },
   "outputs": [],
   "source": [
    "pd.set_option('display.max_columns', 500)\n",
    "pd.set_option('display.max_rows', 500)"
   ],
   "id": "ca9e002f-a5d2-4d0f-bc7d-acb4c758087d"
  },
  {
   "cell_type": "code",
   "execution_count": 24,
   "metadata": {
    "colab": {
     "base_uri": "https://localhost:8080/",
     "height": 483
    },
    "id": "63fb55e0-9894-4e51-83f2-0c804b167465",
    "outputId": "423e18b9-ae55-4a52-864c-8bf6280d3772",
    "ExecuteTime": {
     "end_time": "2023-12-17T08:48:17.636839100Z",
     "start_time": "2023-12-17T08:48:17.268719400Z"
    }
   },
   "outputs": [
    {
     "data": {
      "text/plain": "   team      id                         name  \\\n0   911  698756                Инъекция кода   \n1   911  468195          Токсичные бинарники   \n2   911  231830              Pass-the-Ticket   \n3   911  768568  Управление учетными данными   \n4   911  211018              Доступ к файлам   \n\n                                         description  \\\n0  Обнаружена активность \"Инъекция кода\" с уязвим...   \n1  Обнаружена активность \"Токсичные бинарники\" с ...   \n2  Обнаружена активность \"Pass-the-Ticket\" с уязв...   \n3  Обнаружена активность \"Управление учетными дан...   \n4  Обнаружена активность \"Доступ к файлам\" с уязв...   \n\n                             type  events_count  crit_rate  \\\n0                   Проникновение            59       2.99   \n1                     Закрепление            89       1.47   \n2            Боковое передвижение            22       5.74   \n3                  Повышение прав            72       7.56   \n4  Действия на целевом устройстве             7       0.51   \n\n            assets_id                vulnerabilities_id  \\\n0           ['81036']  ['1009', '1011', '1014', '1010']   \n1           ['81036']  ['1019', '1005', '1011', '1020']   \n2  ['81036', '45060']                  ['1004', '1024']   \n3           ['45060']                          ['1019']   \n4           ['45060']          ['1013', '1004', '1016']   \n\n                start_time                 end_time  \n0  2023-10-01 00:11:41.162  2023-10-01 00:40:41.162  \n1  2023-10-01 01:03:41.162  2023-10-01 01:18:41.162  \n2  2023-10-01 01:29:41.162  2023-10-01 02:07:41.162  \n3  2023-10-01 02:34:41.162  2023-10-01 03:33:41.162  \n4  2023-10-01 03:40:41.162  2023-10-01 04:32:41.162  ",
      "text/html": "<div>\n<style scoped>\n    .dataframe tbody tr th:only-of-type {\n        vertical-align: middle;\n    }\n\n    .dataframe tbody tr th {\n        vertical-align: top;\n    }\n\n    .dataframe thead th {\n        text-align: right;\n    }\n</style>\n<table border=\"1\" class=\"dataframe\">\n  <thead>\n    <tr style=\"text-align: right;\">\n      <th></th>\n      <th>team</th>\n      <th>id</th>\n      <th>name</th>\n      <th>description</th>\n      <th>type</th>\n      <th>events_count</th>\n      <th>crit_rate</th>\n      <th>assets_id</th>\n      <th>vulnerabilities_id</th>\n      <th>start_time</th>\n      <th>end_time</th>\n    </tr>\n  </thead>\n  <tbody>\n    <tr>\n      <th>0</th>\n      <td>911</td>\n      <td>698756</td>\n      <td>Инъекция кода</td>\n      <td>Обнаружена активность \"Инъекция кода\" с уязвим...</td>\n      <td>Проникновение</td>\n      <td>59</td>\n      <td>2.99</td>\n      <td>['81036']</td>\n      <td>['1009', '1011', '1014', '1010']</td>\n      <td>2023-10-01 00:11:41.162</td>\n      <td>2023-10-01 00:40:41.162</td>\n    </tr>\n    <tr>\n      <th>1</th>\n      <td>911</td>\n      <td>468195</td>\n      <td>Токсичные бинарники</td>\n      <td>Обнаружена активность \"Токсичные бинарники\" с ...</td>\n      <td>Закрепление</td>\n      <td>89</td>\n      <td>1.47</td>\n      <td>['81036']</td>\n      <td>['1019', '1005', '1011', '1020']</td>\n      <td>2023-10-01 01:03:41.162</td>\n      <td>2023-10-01 01:18:41.162</td>\n    </tr>\n    <tr>\n      <th>2</th>\n      <td>911</td>\n      <td>231830</td>\n      <td>Pass-the-Ticket</td>\n      <td>Обнаружена активность \"Pass-the-Ticket\" с уязв...</td>\n      <td>Боковое передвижение</td>\n      <td>22</td>\n      <td>5.74</td>\n      <td>['81036', '45060']</td>\n      <td>['1004', '1024']</td>\n      <td>2023-10-01 01:29:41.162</td>\n      <td>2023-10-01 02:07:41.162</td>\n    </tr>\n    <tr>\n      <th>3</th>\n      <td>911</td>\n      <td>768568</td>\n      <td>Управление учетными данными</td>\n      <td>Обнаружена активность \"Управление учетными дан...</td>\n      <td>Повышение прав</td>\n      <td>72</td>\n      <td>7.56</td>\n      <td>['45060']</td>\n      <td>['1019']</td>\n      <td>2023-10-01 02:34:41.162</td>\n      <td>2023-10-01 03:33:41.162</td>\n    </tr>\n    <tr>\n      <th>4</th>\n      <td>911</td>\n      <td>211018</td>\n      <td>Доступ к файлам</td>\n      <td>Обнаружена активность \"Доступ к файлам\" с уязв...</td>\n      <td>Действия на целевом устройстве</td>\n      <td>7</td>\n      <td>0.51</td>\n      <td>['45060']</td>\n      <td>['1013', '1004', '1016']</td>\n      <td>2023-10-01 03:40:41.162</td>\n      <td>2023-10-01 04:32:41.162</td>\n    </tr>\n  </tbody>\n</table>\n</div>"
     },
     "execution_count": 24,
     "metadata": {},
     "output_type": "execute_result"
    }
   ],
   "source": [
    "DATA_PATH = 'incidents.csv'\n",
    "df = pd.read_csv(DATA_PATH)\n",
    "df.head()"
   ],
   "id": "63fb55e0-9894-4e51-83f2-0c804b167465"
  },
  {
   "cell_type": "markdown",
   "metadata": {
    "id": "4632218d-0209-412e-97aa-b736b2d2716f"
   },
   "source": [
    "# Задание1"
   ],
   "id": "4632218d-0209-412e-97aa-b736b2d2716f"
  },
  {
   "cell_type": "code",
   "execution_count": 25,
   "metadata": {
    "colab": {
     "base_uri": "https://localhost:8080/",
     "height": 300
    },
    "id": "a9fab6c6-ae75-445b-91d4-19f5e49abc56",
    "outputId": "3f3171eb-1d13-4191-bbfa-38ae9f3b15b0",
    "scrolled": true,
    "ExecuteTime": {
     "end_time": "2023-12-17T08:48:17.730564500Z",
     "start_time": "2023-12-17T08:48:17.629927800Z"
    }
   },
   "outputs": [
    {
     "data": {
      "text/plain": "               team             id  events_count     crit_rate\ncount  28000.000000   28000.000000  28000.000000  28000.000000\nmean     938.714286  551109.067000     50.327571      5.051400\nstd       27.209803  259009.437919     28.888730      2.856262\nmin      911.000000  100018.000000      1.000000      0.100000\n25%      920.000000  326425.250000     25.000000      2.620000\n50%      931.500000  551577.500000     50.000000      5.030000\n75%      943.250000  774950.250000     75.000000      7.540000\nmax      995.000000  999966.000000    100.000000     10.000000",
      "text/html": "<div>\n<style scoped>\n    .dataframe tbody tr th:only-of-type {\n        vertical-align: middle;\n    }\n\n    .dataframe tbody tr th {\n        vertical-align: top;\n    }\n\n    .dataframe thead th {\n        text-align: right;\n    }\n</style>\n<table border=\"1\" class=\"dataframe\">\n  <thead>\n    <tr style=\"text-align: right;\">\n      <th></th>\n      <th>team</th>\n      <th>id</th>\n      <th>events_count</th>\n      <th>crit_rate</th>\n    </tr>\n  </thead>\n  <tbody>\n    <tr>\n      <th>count</th>\n      <td>28000.000000</td>\n      <td>28000.000000</td>\n      <td>28000.000000</td>\n      <td>28000.000000</td>\n    </tr>\n    <tr>\n      <th>mean</th>\n      <td>938.714286</td>\n      <td>551109.067000</td>\n      <td>50.327571</td>\n      <td>5.051400</td>\n    </tr>\n    <tr>\n      <th>std</th>\n      <td>27.209803</td>\n      <td>259009.437919</td>\n      <td>28.888730</td>\n      <td>2.856262</td>\n    </tr>\n    <tr>\n      <th>min</th>\n      <td>911.000000</td>\n      <td>100018.000000</td>\n      <td>1.000000</td>\n      <td>0.100000</td>\n    </tr>\n    <tr>\n      <th>25%</th>\n      <td>920.000000</td>\n      <td>326425.250000</td>\n      <td>25.000000</td>\n      <td>2.620000</td>\n    </tr>\n    <tr>\n      <th>50%</th>\n      <td>931.500000</td>\n      <td>551577.500000</td>\n      <td>50.000000</td>\n      <td>5.030000</td>\n    </tr>\n    <tr>\n      <th>75%</th>\n      <td>943.250000</td>\n      <td>774950.250000</td>\n      <td>75.000000</td>\n      <td>7.540000</td>\n    </tr>\n    <tr>\n      <th>max</th>\n      <td>995.000000</td>\n      <td>999966.000000</td>\n      <td>100.000000</td>\n      <td>10.000000</td>\n    </tr>\n  </tbody>\n</table>\n</div>"
     },
     "execution_count": 25,
     "metadata": {},
     "output_type": "execute_result"
    }
   ],
   "source": [
    "df.describe()"
   ],
   "id": "a9fab6c6-ae75-445b-91d4-19f5e49abc56"
  },
  {
   "cell_type": "code",
   "execution_count": 26,
   "metadata": {
    "colab": {
     "base_uri": "https://localhost:8080/"
    },
    "id": "17c4f1a3-a005-4a8a-97c6-4602b7c8c601",
    "outputId": "cbce70ba-fc08-4ee9-ca7d-08e662c3b2b4",
    "ExecuteTime": {
     "end_time": "2023-12-17T08:48:17.772334Z",
     "start_time": "2023-12-17T08:48:17.666346800Z"
    }
   },
   "outputs": [
    {
     "name": "stdout",
     "output_type": "stream",
     "text": [
      "<class 'pandas.core.frame.DataFrame'>\n",
      "RangeIndex: 28000 entries, 0 to 27999\n",
      "Data columns (total 11 columns):\n",
      " #   Column              Non-Null Count  Dtype  \n",
      "---  ------              --------------  -----  \n",
      " 0   team                28000 non-null  int64  \n",
      " 1   id                  28000 non-null  int64  \n",
      " 2   name                28000 non-null  object \n",
      " 3   description         28000 non-null  object \n",
      " 4   type                28000 non-null  object \n",
      " 5   events_count        28000 non-null  int64  \n",
      " 6   crit_rate           28000 non-null  float64\n",
      " 7   assets_id           28000 non-null  object \n",
      " 8   vulnerabilities_id  28000 non-null  object \n",
      " 9   start_time          28000 non-null  object \n",
      " 10  end_time            28000 non-null  object \n",
      "dtypes: float64(1), int64(3), object(7)\n",
      "memory usage: 2.3+ MB\n"
     ]
    }
   ],
   "source": [
    "df.info()"
   ],
   "id": "17c4f1a3-a005-4a8a-97c6-4602b7c8c601"
  },
  {
   "cell_type": "code",
   "execution_count": 27,
   "metadata": {
    "colab": {
     "base_uri": "https://localhost:8080/",
     "height": 244
    },
    "id": "c3dbd7eb-4800-434f-918b-45fb50f65e05",
    "outputId": "a7087c9a-40b6-4716-a128-79ced2a5ff45",
    "ExecuteTime": {
     "end_time": "2023-12-17T08:48:17.990752900Z",
     "start_time": "2023-12-17T08:48:17.696647500Z"
    }
   },
   "outputs": [
    {
     "data": {
      "text/plain": "                           name  \\\ncount                     28000   \nunique                       24   \ntop     Удаление учетных данных   \nfreq                       2419   \n\n                                              description            type  \\\ncount                                               28000           28000   \nunique                                              19871               6   \ntop     Обнаружена активность \"Удаление учетных данных...  Повышение прав   \nfreq                                                   33            4734   \n\n        assets_id vulnerabilities_id               start_time  \\\ncount       28000              28000                    28000   \nunique       5698              12976                    27513   \ntop     ['50126']           ['1021']  2023-10-02 00:11:51.546   \nfreq           37                307                        2   \n\n                       end_time  \ncount                     28000  \nunique                    27993  \ntop     2023-10-10 00:19:42.171  \nfreq                          2  ",
      "text/html": "<div>\n<style scoped>\n    .dataframe tbody tr th:only-of-type {\n        vertical-align: middle;\n    }\n\n    .dataframe tbody tr th {\n        vertical-align: top;\n    }\n\n    .dataframe thead th {\n        text-align: right;\n    }\n</style>\n<table border=\"1\" class=\"dataframe\">\n  <thead>\n    <tr style=\"text-align: right;\">\n      <th></th>\n      <th>name</th>\n      <th>description</th>\n      <th>type</th>\n      <th>assets_id</th>\n      <th>vulnerabilities_id</th>\n      <th>start_time</th>\n      <th>end_time</th>\n    </tr>\n  </thead>\n  <tbody>\n    <tr>\n      <th>count</th>\n      <td>28000</td>\n      <td>28000</td>\n      <td>28000</td>\n      <td>28000</td>\n      <td>28000</td>\n      <td>28000</td>\n      <td>28000</td>\n    </tr>\n    <tr>\n      <th>unique</th>\n      <td>24</td>\n      <td>19871</td>\n      <td>6</td>\n      <td>5698</td>\n      <td>12976</td>\n      <td>27513</td>\n      <td>27993</td>\n    </tr>\n    <tr>\n      <th>top</th>\n      <td>Удаление учетных данных</td>\n      <td>Обнаружена активность \"Удаление учетных данных...</td>\n      <td>Повышение прав</td>\n      <td>['50126']</td>\n      <td>['1021']</td>\n      <td>2023-10-02 00:11:51.546</td>\n      <td>2023-10-10 00:19:42.171</td>\n    </tr>\n    <tr>\n      <th>freq</th>\n      <td>2419</td>\n      <td>33</td>\n      <td>4734</td>\n      <td>37</td>\n      <td>307</td>\n      <td>2</td>\n      <td>2</td>\n    </tr>\n  </tbody>\n</table>\n</div>"
     },
     "execution_count": 27,
     "metadata": {},
     "output_type": "execute_result"
    }
   ],
   "source": [
    "df.describe(include=[\"object\", \"bool\"])"
   ],
   "id": "c3dbd7eb-4800-434f-918b-45fb50f65e05"
  },
  {
   "cell_type": "code",
   "execution_count": 28,
   "metadata": {
    "colab": {
     "base_uri": "https://localhost:8080/",
     "height": 556
    },
    "id": "e9b31db8-8889-46cd-b192-cb8b5fa3810c",
    "outputId": "c725b103-4d98-46aa-9fcb-d00601b97184",
    "ExecuteTime": {
     "end_time": "2023-12-17T08:48:18.047927800Z",
     "start_time": "2023-12-17T08:48:17.817591900Z"
    }
   },
   "outputs": [
    {
     "data": {
      "text/plain": "       team      id                         name  \\\n23600   941  149112                          SSH   \n24877   942  298625  Управление учетными данными   \n27109   945  579752              Доступ к файлам   \n663     911  201664          Токсичные бинарники   \n16444   925  776621                   Маскировка   \n\n                                             description  \\\n23600  Обнаружена активность \"SSH\" с уязвимостями 102...   \n24877  Обнаружена активность \"Управление учетными дан...   \n27109  Обнаружена активность \"Доступ к файлам\" с уязв...   \n663    Обнаружена активность \"Токсичные бинарники\" с ...   \n16444  Обнаружена активность \"Маскировка\" с уязвимост...   \n\n                                 type  events_count  crit_rate  \\\n23600            Боковое передвижение            49       10.0   \n24877                  Повышение прав            88       10.0   \n27109  Действия на целевом устройстве            93       10.0   \n663                       Закрепление             3       10.0   \n16444           Избежание обнаружения            95       10.0   \n\n                assets_id                vulnerabilities_id  \\\n23600  ['32105', '48670']  ['1023', '1024', '1020', '1011']   \n24877           ['35820']          ['1001', '1003', '1017']   \n27109           ['51650']          ['1023', '1024', '1007']   \n663             ['43360']                  ['1024', '1023']   \n16444           ['15358']                  ['1024', '1015']   \n\n                    start_time                 end_time  \n23600  2023-09-25 00:11:53.865  2023-09-25 00:18:53.865  \n24877  2023-10-03 00:11:54.725  2023-10-03 00:24:54.725  \n27109  2023-09-26 00:11:55.861  2023-09-26 00:15:55.861  \n663    2023-10-05 00:11:41.458  2023-10-05 00:46:41.458  \n16444  2023-09-18 00:11:50.136  2023-09-18 01:08:50.136  ",
      "text/html": "<div>\n<style scoped>\n    .dataframe tbody tr th:only-of-type {\n        vertical-align: middle;\n    }\n\n    .dataframe tbody tr th {\n        vertical-align: top;\n    }\n\n    .dataframe thead th {\n        text-align: right;\n    }\n</style>\n<table border=\"1\" class=\"dataframe\">\n  <thead>\n    <tr style=\"text-align: right;\">\n      <th></th>\n      <th>team</th>\n      <th>id</th>\n      <th>name</th>\n      <th>description</th>\n      <th>type</th>\n      <th>events_count</th>\n      <th>crit_rate</th>\n      <th>assets_id</th>\n      <th>vulnerabilities_id</th>\n      <th>start_time</th>\n      <th>end_time</th>\n    </tr>\n  </thead>\n  <tbody>\n    <tr>\n      <th>23600</th>\n      <td>941</td>\n      <td>149112</td>\n      <td>SSH</td>\n      <td>Обнаружена активность \"SSH\" с уязвимостями 102...</td>\n      <td>Боковое передвижение</td>\n      <td>49</td>\n      <td>10.0</td>\n      <td>['32105', '48670']</td>\n      <td>['1023', '1024', '1020', '1011']</td>\n      <td>2023-09-25 00:11:53.865</td>\n      <td>2023-09-25 00:18:53.865</td>\n    </tr>\n    <tr>\n      <th>24877</th>\n      <td>942</td>\n      <td>298625</td>\n      <td>Управление учетными данными</td>\n      <td>Обнаружена активность \"Управление учетными дан...</td>\n      <td>Повышение прав</td>\n      <td>88</td>\n      <td>10.0</td>\n      <td>['35820']</td>\n      <td>['1001', '1003', '1017']</td>\n      <td>2023-10-03 00:11:54.725</td>\n      <td>2023-10-03 00:24:54.725</td>\n    </tr>\n    <tr>\n      <th>27109</th>\n      <td>945</td>\n      <td>579752</td>\n      <td>Доступ к файлам</td>\n      <td>Обнаружена активность \"Доступ к файлам\" с уязв...</td>\n      <td>Действия на целевом устройстве</td>\n      <td>93</td>\n      <td>10.0</td>\n      <td>['51650']</td>\n      <td>['1023', '1024', '1007']</td>\n      <td>2023-09-26 00:11:55.861</td>\n      <td>2023-09-26 00:15:55.861</td>\n    </tr>\n    <tr>\n      <th>663</th>\n      <td>911</td>\n      <td>201664</td>\n      <td>Токсичные бинарники</td>\n      <td>Обнаружена активность \"Токсичные бинарники\" с ...</td>\n      <td>Закрепление</td>\n      <td>3</td>\n      <td>10.0</td>\n      <td>['43360']</td>\n      <td>['1024', '1023']</td>\n      <td>2023-10-05 00:11:41.458</td>\n      <td>2023-10-05 00:46:41.458</td>\n    </tr>\n    <tr>\n      <th>16444</th>\n      <td>925</td>\n      <td>776621</td>\n      <td>Маскировка</td>\n      <td>Обнаружена активность \"Маскировка\" с уязвимост...</td>\n      <td>Избежание обнаружения</td>\n      <td>95</td>\n      <td>10.0</td>\n      <td>['15358']</td>\n      <td>['1024', '1015']</td>\n      <td>2023-09-18 00:11:50.136</td>\n      <td>2023-09-18 01:08:50.136</td>\n    </tr>\n  </tbody>\n</table>\n</div>"
     },
     "execution_count": 28,
     "metadata": {},
     "output_type": "execute_result"
    }
   ],
   "source": [
    "df.sort_values(by=\"crit_rate\", ascending=False).head()"
   ],
   "id": "e9b31db8-8889-46cd-b192-cb8b5fa3810c"
  },
  {
   "cell_type": "markdown",
   "metadata": {
    "id": "b743c05b-73ba-4208-a862-dcdacd80f4ab"
   },
   "source": [
    "# Задание 2"
   ],
   "id": "b743c05b-73ba-4208-a862-dcdacd80f4ab"
  },
  {
   "cell_type": "code",
   "execution_count": 29,
   "metadata": {
    "colab": {
     "base_uri": "https://localhost:8080/",
     "height": 455
    },
    "id": "536ec131-79c1-486e-98f7-4d5c73be61a4",
    "outputId": "81c438f2-48ea-4a64-ca21-6a45b0b55ec4",
    "scrolled": true,
    "ExecuteTime": {
     "end_time": "2023-12-17T08:48:18.141391200Z",
     "start_time": "2023-12-17T08:48:17.856443100Z"
    }
   },
   "outputs": [
    {
     "name": "stderr",
     "output_type": "stream",
     "text": [
      "C:\\Users\\79037\\AppData\\Local\\Temp\\ipykernel_13004\\290744620.py:7: FutureWarning: The default of observed=False is deprecated and will be changed to True in a future version of pandas. Pass observed=False to retain current behavior or observed=True to adopt the future default and silence this warning.\n",
      "  df.groupby(['name', 'start_tod']).agg({'start_tod': 'count'})\n"
     ]
    },
    {
     "data": {
      "text/plain": "                                          start_tod\nname                           start_tod           \nPass-the-Hash                  night            973\n                               morning            0\n                               afternoon          0\n                               evening            0\nPass-the-Ticket                night            961\n                               morning            0\n                               afternoon          0\n                               evening            0\nRDP                            night            893\n                               morning            0\n                               afternoon          0\n                               evening            0\nSSH                            night            922\n                               morning            0\n                               afternoon          0\n                               evening            0\nWeb-инъекции                   night            894\n                               morning            0\n                               afternoon          0\n                               evening            0\nWinRM                          night            966\n                               morning            0\n                               afternoon          0\n                               evening            0\nДобавление учетной записи      night            911\n                               morning            0\n                               afternoon          0\n                               evening            0\nДоступ к файлам                night           2388\n                               morning            0\n                               afternoon          0\n                               evening            0\nЗапуск вредоносного ПО         night            877\n                               morning            0\n                               afternoon          0\n                               evening            0\nЗлоупотребление службами       night            948\n                               morning            0\n                               afternoon          0\n                               evening            0\nЗлоупотребление токенами       night            948\n                               morning            0\n                               afternoon          0\n                               evening            0\nИзменение планировщика заданий night            948\n                               morning            0\n                               afternoon          0\n                               evening            0\nИнъекция кода                  night            986\n                               morning            0\n                               afternoon          0\n                               evening            0\nМанипуляции с Kerberos         night            936\n                               morning            0\n                               afternoon          0\n                               evening            0\nМаскировка                     night           2261\n                               morning            0\n                               afternoon          0\n                               evening            0\nПубличный доступ               night            890\n                               morning            0\n                               afternoon          0\n                               evening            0\nСбор данных                    night           2272\n                               morning            0\n                               afternoon          0\n                               evening            0\nТоксичные бинарники            night            956\n                               morning            0\n                               afternoon          0\n                               evening            0\nУдаление учетных данных        night           2419\n                               morning            0\n                               afternoon          0\n                               evening            0\nУправление учетными данными    night            967\n                               morning            0\n                               afternoon          0\n                               evening            0\nФишинг                         night            866\n                               morning            0\n                               afternoon          0\n                               evening            0\nЭксплуатация служб             night            928\n                               morning            0\n                               afternoon          0\n                               evening            0\nЭксплуатация уязвимостей       night            935\n                               morning            0\n                               afternoon          0\n                               evening            0\nЭксплуатация уязвимостей ОС    night            955\n                               morning            0\n                               afternoon          0\n                               evening            0",
      "text/html": "<div>\n<style scoped>\n    .dataframe tbody tr th:only-of-type {\n        vertical-align: middle;\n    }\n\n    .dataframe tbody tr th {\n        vertical-align: top;\n    }\n\n    .dataframe thead th {\n        text-align: right;\n    }\n</style>\n<table border=\"1\" class=\"dataframe\">\n  <thead>\n    <tr style=\"text-align: right;\">\n      <th></th>\n      <th></th>\n      <th>start_tod</th>\n    </tr>\n    <tr>\n      <th>name</th>\n      <th>start_tod</th>\n      <th></th>\n    </tr>\n  </thead>\n  <tbody>\n    <tr>\n      <th rowspan=\"4\" valign=\"top\">Pass-the-Hash</th>\n      <th>night</th>\n      <td>973</td>\n    </tr>\n    <tr>\n      <th>morning</th>\n      <td>0</td>\n    </tr>\n    <tr>\n      <th>afternoon</th>\n      <td>0</td>\n    </tr>\n    <tr>\n      <th>evening</th>\n      <td>0</td>\n    </tr>\n    <tr>\n      <th rowspan=\"4\" valign=\"top\">Pass-the-Ticket</th>\n      <th>night</th>\n      <td>961</td>\n    </tr>\n    <tr>\n      <th>morning</th>\n      <td>0</td>\n    </tr>\n    <tr>\n      <th>afternoon</th>\n      <td>0</td>\n    </tr>\n    <tr>\n      <th>evening</th>\n      <td>0</td>\n    </tr>\n    <tr>\n      <th rowspan=\"4\" valign=\"top\">RDP</th>\n      <th>night</th>\n      <td>893</td>\n    </tr>\n    <tr>\n      <th>morning</th>\n      <td>0</td>\n    </tr>\n    <tr>\n      <th>afternoon</th>\n      <td>0</td>\n    </tr>\n    <tr>\n      <th>evening</th>\n      <td>0</td>\n    </tr>\n    <tr>\n      <th rowspan=\"4\" valign=\"top\">SSH</th>\n      <th>night</th>\n      <td>922</td>\n    </tr>\n    <tr>\n      <th>morning</th>\n      <td>0</td>\n    </tr>\n    <tr>\n      <th>afternoon</th>\n      <td>0</td>\n    </tr>\n    <tr>\n      <th>evening</th>\n      <td>0</td>\n    </tr>\n    <tr>\n      <th rowspan=\"4\" valign=\"top\">Web-инъекции</th>\n      <th>night</th>\n      <td>894</td>\n    </tr>\n    <tr>\n      <th>morning</th>\n      <td>0</td>\n    </tr>\n    <tr>\n      <th>afternoon</th>\n      <td>0</td>\n    </tr>\n    <tr>\n      <th>evening</th>\n      <td>0</td>\n    </tr>\n    <tr>\n      <th rowspan=\"4\" valign=\"top\">WinRM</th>\n      <th>night</th>\n      <td>966</td>\n    </tr>\n    <tr>\n      <th>morning</th>\n      <td>0</td>\n    </tr>\n    <tr>\n      <th>afternoon</th>\n      <td>0</td>\n    </tr>\n    <tr>\n      <th>evening</th>\n      <td>0</td>\n    </tr>\n    <tr>\n      <th rowspan=\"4\" valign=\"top\">Добавление учетной записи</th>\n      <th>night</th>\n      <td>911</td>\n    </tr>\n    <tr>\n      <th>morning</th>\n      <td>0</td>\n    </tr>\n    <tr>\n      <th>afternoon</th>\n      <td>0</td>\n    </tr>\n    <tr>\n      <th>evening</th>\n      <td>0</td>\n    </tr>\n    <tr>\n      <th rowspan=\"4\" valign=\"top\">Доступ к файлам</th>\n      <th>night</th>\n      <td>2388</td>\n    </tr>\n    <tr>\n      <th>morning</th>\n      <td>0</td>\n    </tr>\n    <tr>\n      <th>afternoon</th>\n      <td>0</td>\n    </tr>\n    <tr>\n      <th>evening</th>\n      <td>0</td>\n    </tr>\n    <tr>\n      <th rowspan=\"4\" valign=\"top\">Запуск вредоносного ПО</th>\n      <th>night</th>\n      <td>877</td>\n    </tr>\n    <tr>\n      <th>morning</th>\n      <td>0</td>\n    </tr>\n    <tr>\n      <th>afternoon</th>\n      <td>0</td>\n    </tr>\n    <tr>\n      <th>evening</th>\n      <td>0</td>\n    </tr>\n    <tr>\n      <th rowspan=\"4\" valign=\"top\">Злоупотребление службами</th>\n      <th>night</th>\n      <td>948</td>\n    </tr>\n    <tr>\n      <th>morning</th>\n      <td>0</td>\n    </tr>\n    <tr>\n      <th>afternoon</th>\n      <td>0</td>\n    </tr>\n    <tr>\n      <th>evening</th>\n      <td>0</td>\n    </tr>\n    <tr>\n      <th rowspan=\"4\" valign=\"top\">Злоупотребление токенами</th>\n      <th>night</th>\n      <td>948</td>\n    </tr>\n    <tr>\n      <th>morning</th>\n      <td>0</td>\n    </tr>\n    <tr>\n      <th>afternoon</th>\n      <td>0</td>\n    </tr>\n    <tr>\n      <th>evening</th>\n      <td>0</td>\n    </tr>\n    <tr>\n      <th rowspan=\"4\" valign=\"top\">Изменение планировщика заданий</th>\n      <th>night</th>\n      <td>948</td>\n    </tr>\n    <tr>\n      <th>morning</th>\n      <td>0</td>\n    </tr>\n    <tr>\n      <th>afternoon</th>\n      <td>0</td>\n    </tr>\n    <tr>\n      <th>evening</th>\n      <td>0</td>\n    </tr>\n    <tr>\n      <th rowspan=\"4\" valign=\"top\">Инъекция кода</th>\n      <th>night</th>\n      <td>986</td>\n    </tr>\n    <tr>\n      <th>morning</th>\n      <td>0</td>\n    </tr>\n    <tr>\n      <th>afternoon</th>\n      <td>0</td>\n    </tr>\n    <tr>\n      <th>evening</th>\n      <td>0</td>\n    </tr>\n    <tr>\n      <th rowspan=\"4\" valign=\"top\">Манипуляции с Kerberos</th>\n      <th>night</th>\n      <td>936</td>\n    </tr>\n    <tr>\n      <th>morning</th>\n      <td>0</td>\n    </tr>\n    <tr>\n      <th>afternoon</th>\n      <td>0</td>\n    </tr>\n    <tr>\n      <th>evening</th>\n      <td>0</td>\n    </tr>\n    <tr>\n      <th rowspan=\"4\" valign=\"top\">Маскировка</th>\n      <th>night</th>\n      <td>2261</td>\n    </tr>\n    <tr>\n      <th>morning</th>\n      <td>0</td>\n    </tr>\n    <tr>\n      <th>afternoon</th>\n      <td>0</td>\n    </tr>\n    <tr>\n      <th>evening</th>\n      <td>0</td>\n    </tr>\n    <tr>\n      <th rowspan=\"4\" valign=\"top\">Публичный доступ</th>\n      <th>night</th>\n      <td>890</td>\n    </tr>\n    <tr>\n      <th>morning</th>\n      <td>0</td>\n    </tr>\n    <tr>\n      <th>afternoon</th>\n      <td>0</td>\n    </tr>\n    <tr>\n      <th>evening</th>\n      <td>0</td>\n    </tr>\n    <tr>\n      <th rowspan=\"4\" valign=\"top\">Сбор данных</th>\n      <th>night</th>\n      <td>2272</td>\n    </tr>\n    <tr>\n      <th>morning</th>\n      <td>0</td>\n    </tr>\n    <tr>\n      <th>afternoon</th>\n      <td>0</td>\n    </tr>\n    <tr>\n      <th>evening</th>\n      <td>0</td>\n    </tr>\n    <tr>\n      <th rowspan=\"4\" valign=\"top\">Токсичные бинарники</th>\n      <th>night</th>\n      <td>956</td>\n    </tr>\n    <tr>\n      <th>morning</th>\n      <td>0</td>\n    </tr>\n    <tr>\n      <th>afternoon</th>\n      <td>0</td>\n    </tr>\n    <tr>\n      <th>evening</th>\n      <td>0</td>\n    </tr>\n    <tr>\n      <th rowspan=\"4\" valign=\"top\">Удаление учетных данных</th>\n      <th>night</th>\n      <td>2419</td>\n    </tr>\n    <tr>\n      <th>morning</th>\n      <td>0</td>\n    </tr>\n    <tr>\n      <th>afternoon</th>\n      <td>0</td>\n    </tr>\n    <tr>\n      <th>evening</th>\n      <td>0</td>\n    </tr>\n    <tr>\n      <th rowspan=\"4\" valign=\"top\">Управление учетными данными</th>\n      <th>night</th>\n      <td>967</td>\n    </tr>\n    <tr>\n      <th>morning</th>\n      <td>0</td>\n    </tr>\n    <tr>\n      <th>afternoon</th>\n      <td>0</td>\n    </tr>\n    <tr>\n      <th>evening</th>\n      <td>0</td>\n    </tr>\n    <tr>\n      <th rowspan=\"4\" valign=\"top\">Фишинг</th>\n      <th>night</th>\n      <td>866</td>\n    </tr>\n    <tr>\n      <th>morning</th>\n      <td>0</td>\n    </tr>\n    <tr>\n      <th>afternoon</th>\n      <td>0</td>\n    </tr>\n    <tr>\n      <th>evening</th>\n      <td>0</td>\n    </tr>\n    <tr>\n      <th rowspan=\"4\" valign=\"top\">Эксплуатация служб</th>\n      <th>night</th>\n      <td>928</td>\n    </tr>\n    <tr>\n      <th>morning</th>\n      <td>0</td>\n    </tr>\n    <tr>\n      <th>afternoon</th>\n      <td>0</td>\n    </tr>\n    <tr>\n      <th>evening</th>\n      <td>0</td>\n    </tr>\n    <tr>\n      <th rowspan=\"4\" valign=\"top\">Эксплуатация уязвимостей</th>\n      <th>night</th>\n      <td>935</td>\n    </tr>\n    <tr>\n      <th>morning</th>\n      <td>0</td>\n    </tr>\n    <tr>\n      <th>afternoon</th>\n      <td>0</td>\n    </tr>\n    <tr>\n      <th>evening</th>\n      <td>0</td>\n    </tr>\n    <tr>\n      <th rowspan=\"4\" valign=\"top\">Эксплуатация уязвимостей ОС</th>\n      <th>night</th>\n      <td>955</td>\n    </tr>\n    <tr>\n      <th>morning</th>\n      <td>0</td>\n    </tr>\n    <tr>\n      <th>afternoon</th>\n      <td>0</td>\n    </tr>\n    <tr>\n      <th>evening</th>\n      <td>0</td>\n    </tr>\n  </tbody>\n</table>\n</div>"
     },
     "execution_count": 29,
     "metadata": {},
     "output_type": "execute_result"
    }
   ],
   "source": [
    "df['start_tod'] = pd.cut(pd.to_datetime(df.start_time).dt.hour,\n",
    "                        bins = [0, 6, 12, 18, 24],\n",
    "                        labels = ['night', 'morning', 'afternoon', 'evening'],\n",
    "                        right = False,\n",
    "                        include_lowest = True)\n",
    "\n",
    "df.groupby(['name', 'start_tod']).agg({'start_tod': 'count'})"
   ],
   "id": "536ec131-79c1-486e-98f7-4d5c73be61a4"
  },
  {
   "cell_type": "markdown",
   "metadata": {
    "id": "524d4faf-8f6d-4d81-a99d-569ffa80964b"
   },
   "source": [
    "# Задание 3"
   ],
   "id": "524d4faf-8f6d-4d81-a99d-569ffa80964b"
  },
  {
   "cell_type": "code",
   "execution_count": 30,
   "metadata": {
    "colab": {
     "base_uri": "https://localhost:8080/",
     "height": 716
    },
    "id": "7f7d1d79-7c82-4bb0-92d7-af198ba73296",
    "outputId": "2210668c-352e-435f-ba1b-8df0086ea90a",
    "ExecuteTime": {
     "end_time": "2023-12-17T08:50:23.974298800Z",
     "start_time": "2023-12-17T08:48:17.962221500Z"
    }
   },
   "outputs": [
    {
     "name": "stderr",
     "output_type": "stream",
     "text": [
      "C:\\Users\\79037\\AppData\\Local\\Temp\\ipykernel_13004\\3482133143.py:15: SettingWithCopyWarning: \n",
      "A value is trying to be set on a copy of a slice from a DataFrame.\n",
      "Try using .loc[row_indexer,col_indexer] = value instead\n",
      "\n",
      "See the caveats in the documentation: https://pandas.pydata.org/pandas-docs/stable/user_guide/indexing.html#returning-a-view-versus-a-copy\n",
      "  test_df['assets_id'] = test_df['assets_id'].apply(lambda x: str(x).replace(\"[\", '').replace(\"]\", '').replace(\"'\", ''))\n",
      "C:\\Users\\79037\\AppData\\Local\\Temp\\ipykernel_13004\\3482133143.py:16: SettingWithCopyWarning: \n",
      "A value is trying to be set on a copy of a slice from a DataFrame.\n",
      "Try using .loc[row_indexer,col_indexer] = value instead\n",
      "\n",
      "See the caveats in the documentation: https://pandas.pydata.org/pandas-docs/stable/user_guide/indexing.html#returning-a-view-versus-a-copy\n",
      "  test_df['asset_os'] = test_df.assets_id.apply(get_assets_os)\n"
     ]
    },
    {
     "data": {
      "text/plain": "                                                 events_count  crit_rate\nasset_os                                                                \n{'Cisco IOS', 'Red Hat Enterprise 8'}               32.000000   5.420000\n{'Cisco IOS', 'Windows 10 Pro'}                     19.500000   3.040000\n{'Cisco IOS'}                                       49.000000   5.313000\n{'Red Hat Enterprise 8'}                            57.352941   4.232353\n{'Ubuntu 20.04', 'Red Hat Enterprise 8'}            84.000000   6.410000\n{'Ubuntu 20.04', 'Windows 10 Pro'}                  48.000000   5.095000\n{'Ubuntu 20.04', 'Windows Server 2022'}             50.500000   5.095000\n{'Ubuntu 20.04'}                                    50.173913   5.860870\n{'Windows 10 Pro'}                                  46.941176   3.770588\n{'Windows Server 2022', 'Cisco IOS'}                64.000000   8.810000\n{'Windows Server 2022', 'Red Hat Enterprise 8'}     96.000000   5.250000\n{'Windows Server 2022', 'Ubuntu 20.04'}             96.000000   6.560000\n{'Windows Server 2022'}                             50.800000   4.872000",
      "text/html": "<div>\n<style scoped>\n    .dataframe tbody tr th:only-of-type {\n        vertical-align: middle;\n    }\n\n    .dataframe tbody tr th {\n        vertical-align: top;\n    }\n\n    .dataframe thead th {\n        text-align: right;\n    }\n</style>\n<table border=\"1\" class=\"dataframe\">\n  <thead>\n    <tr style=\"text-align: right;\">\n      <th></th>\n      <th>events_count</th>\n      <th>crit_rate</th>\n    </tr>\n    <tr>\n      <th>asset_os</th>\n      <th></th>\n      <th></th>\n    </tr>\n  </thead>\n  <tbody>\n    <tr>\n      <th>{'Cisco IOS', 'Red Hat Enterprise 8'}</th>\n      <td>32.000000</td>\n      <td>5.420000</td>\n    </tr>\n    <tr>\n      <th>{'Cisco IOS', 'Windows 10 Pro'}</th>\n      <td>19.500000</td>\n      <td>3.040000</td>\n    </tr>\n    <tr>\n      <th>{'Cisco IOS'}</th>\n      <td>49.000000</td>\n      <td>5.313000</td>\n    </tr>\n    <tr>\n      <th>{'Red Hat Enterprise 8'}</th>\n      <td>57.352941</td>\n      <td>4.232353</td>\n    </tr>\n    <tr>\n      <th>{'Ubuntu 20.04', 'Red Hat Enterprise 8'}</th>\n      <td>84.000000</td>\n      <td>6.410000</td>\n    </tr>\n    <tr>\n      <th>{'Ubuntu 20.04', 'Windows 10 Pro'}</th>\n      <td>48.000000</td>\n      <td>5.095000</td>\n    </tr>\n    <tr>\n      <th>{'Ubuntu 20.04', 'Windows Server 2022'}</th>\n      <td>50.500000</td>\n      <td>5.095000</td>\n    </tr>\n    <tr>\n      <th>{'Ubuntu 20.04'}</th>\n      <td>50.173913</td>\n      <td>5.860870</td>\n    </tr>\n    <tr>\n      <th>{'Windows 10 Pro'}</th>\n      <td>46.941176</td>\n      <td>3.770588</td>\n    </tr>\n    <tr>\n      <th>{'Windows Server 2022', 'Cisco IOS'}</th>\n      <td>64.000000</td>\n      <td>8.810000</td>\n    </tr>\n    <tr>\n      <th>{'Windows Server 2022', 'Red Hat Enterprise 8'}</th>\n      <td>96.000000</td>\n      <td>5.250000</td>\n    </tr>\n    <tr>\n      <th>{'Windows Server 2022', 'Ubuntu 20.04'}</th>\n      <td>96.000000</td>\n      <td>6.560000</td>\n    </tr>\n    <tr>\n      <th>{'Windows Server 2022'}</th>\n      <td>50.800000</td>\n      <td>4.872000</td>\n    </tr>\n  </tbody>\n</table>\n</div>"
     },
     "execution_count": 30,
     "metadata": {},
     "output_type": "execute_result"
    }
   ],
   "source": [
    "import requests\n",
    "\n",
    "API_URL = 'https://d5d9e0b83lurt901t9ue.apigw.yandexcloud.net'\n",
    "\n",
    "\n",
    "# в инцидентах, имеющих несколько ассетов ассеты не разделяются, т.к. с точки зрения предметной области разумно выделить в отдельную категорию инциденты, затрагивающие несколько типов систем сразу\n",
    "def get_assets_os(assets_id):\n",
    "    assets_os = set()\n",
    "    for asset_id in assets_id.split(','):\n",
    "        assets_os.add(requests.get(f'{API_URL}/get-asset-by-id', params={'asset-id': asset_id}).json().get('result', {}).get('os'))\n",
    "    return str(assets_os)\n",
    "\n",
    "# to reduce requests count\n",
    "test_df = df.head(100)\n",
    "test_df['assets_id'] = test_df['assets_id'].apply(lambda x: str(x).replace(\"[\", '').replace(\"]\", '').replace(\"'\", ''))\n",
    "test_df['asset_os'] = test_df.assets_id.apply(get_assets_os)\n",
    "test_df.groupby('asset_os').agg({'events_count': 'mean', 'crit_rate': 'mean'})"
   ],
   "id": "7f7d1d79-7c82-4bb0-92d7-af198ba73296"
  },
  {
   "cell_type": "markdown",
   "metadata": {
    "id": "aa59cd23-2ae6-40ba-8fe6-1eb6714a1923"
   },
   "source": [
    "# Задание 4"
   ],
   "id": "aa59cd23-2ae6-40ba-8fe6-1eb6714a1923"
  },
  {
   "cell_type": "code",
   "execution_count": 31,
   "metadata": {
    "colab": {
     "base_uri": "https://localhost:8080/",
     "height": 1000
    },
    "id": "de75dc48-af82-4251-af36-f261719996c9",
    "outputId": "7938b2f5-d7a3-45bc-b235-1a61ba8ca548",
    "scrolled": true,
    "ExecuteTime": {
     "end_time": "2023-12-17T08:50:25.401345700Z",
     "start_time": "2023-12-17T08:50:23.947311600Z"
    }
   },
   "outputs": [
    {
     "data": {
      "text/plain": "       team      id                      name  \\\n12231   921  792767           Доступ к файлам   \n16523   925  906582  Эксплуатация уязвимостей   \n24345   942  134748               Сбор данных   \n9246    993  800786                    Фишинг   \n15781   924  408052               Сбор данных   \n...     ...     ...                       ...   \n11365   995  965461               Сбор данных   \n19575   932  419803              Web-инъекции   \n21554   934  436919               Сбор данных   \n25742   943  620320                Маскировка   \n25467   943  407138                Маскировка   \n\n                                             description  \\\n12231  Обнаружена активность \"Доступ к файлам\" с уязв...   \n16523  Обнаружена активность \"Эксплуатация уязвимосте...   \n24345  Обнаружена активность \"Сбор данных\" с уязвимос...   \n9246   Обнаружена активность \"Фишинг\" с уязвимостями ...   \n15781  Обнаружена активность \"Сбор данных\" с уязвимос...   \n...                                                  ...   \n11365  Обнаружена активность \"Сбор данных\" с уязвимос...   \n19575  Обнаружена активность \"Web-инъекции\" с уязвимо...   \n21554  Обнаружена активность \"Сбор данных\" с уязвимос...   \n25742  Обнаружена активность \"Маскировка\" с уязвимост...   \n25467  Обнаружена активность \"Маскировка\" с уязвимост...   \n\n                                 type  events_count  crit_rate  assets_id  \\\n12231  Действия на целевом устройстве             1       8.74  ['58263']   \n16523                   Проникновение             1       9.97  ['89929']   \n24345  Действия на целевом устройстве             1       6.13  ['89589']   \n9246                    Проникновение             1       7.59  ['90851']   \n15781  Действия на целевом устройстве             1       4.94  ['31350']   \n...                               ...           ...        ...        ...   \n11365  Действия на целевом устройстве            98       7.92  ['67023']   \n19575                   Проникновение            99       3.52  ['92003']   \n21554  Действия на целевом устройстве            99       9.64  ['39459']   \n25742           Избежание обнаружения           100       5.83  ['20638']   \n25467           Избежание обнаружения           100       5.62  ['90603']   \n\n                     vulnerabilities_id              start_time  \\\n12231  ['1007', '1018', '1011', '1021'] 2023-09-27 00:11:47.947   \n16523                          ['1004'] 2023-09-25 00:11:50.187   \n24345  ['1010', '1014', '1012', '1001'] 2023-09-13 00:11:54.399   \n9246           ['1011', '1017', '1004'] 2023-09-13 00:11:46.049   \n15781                  ['1013', '1007'] 2023-09-17 00:11:49.773   \n...                                 ...                     ...   \n11365                          ['1001'] 2023-10-03 00:11:47.503   \n19575                  ['1019', '1015'] 2023-10-05 00:11:51.727   \n21554                          ['1019'] 2023-10-01 00:11:52.722   \n25742          ['1021', '1016', '1023'] 2023-09-20 00:11:55.172   \n25467                          ['1021'] 2023-09-30 00:11:55.017   \n\n                     end_time start_tod  relation  \n12231 2023-09-27 01:11:47.947     night  0.000278  \n16523 2023-09-25 01:11:50.187     night  0.000278  \n24345 2023-09-13 01:11:54.399     night  0.000278  \n9246  2023-09-13 01:11:46.049     night  0.000278  \n15781 2023-09-17 01:10:49.773     night  0.000282  \n...                       ...       ...       ...  \n11365 2023-10-03 00:12:47.503     night  1.633333  \n19575 2023-10-05 00:12:51.727     night  1.650000  \n21554 2023-10-01 00:12:52.722     night  1.650000  \n25742 2023-09-20 00:12:55.172     night  1.666667  \n25467 2023-09-30 00:12:55.017     night  1.666667  \n\n[19879 rows x 13 columns]",
      "text/html": "<div>\n<style scoped>\n    .dataframe tbody tr th:only-of-type {\n        vertical-align: middle;\n    }\n\n    .dataframe tbody tr th {\n        vertical-align: top;\n    }\n\n    .dataframe thead th {\n        text-align: right;\n    }\n</style>\n<table border=\"1\" class=\"dataframe\">\n  <thead>\n    <tr style=\"text-align: right;\">\n      <th></th>\n      <th>team</th>\n      <th>id</th>\n      <th>name</th>\n      <th>description</th>\n      <th>type</th>\n      <th>events_count</th>\n      <th>crit_rate</th>\n      <th>assets_id</th>\n      <th>vulnerabilities_id</th>\n      <th>start_time</th>\n      <th>end_time</th>\n      <th>start_tod</th>\n      <th>relation</th>\n    </tr>\n  </thead>\n  <tbody>\n    <tr>\n      <th>12231</th>\n      <td>921</td>\n      <td>792767</td>\n      <td>Доступ к файлам</td>\n      <td>Обнаружена активность \"Доступ к файлам\" с уязв...</td>\n      <td>Действия на целевом устройстве</td>\n      <td>1</td>\n      <td>8.74</td>\n      <td>['58263']</td>\n      <td>['1007', '1018', '1011', '1021']</td>\n      <td>2023-09-27 00:11:47.947</td>\n      <td>2023-09-27 01:11:47.947</td>\n      <td>night</td>\n      <td>0.000278</td>\n    </tr>\n    <tr>\n      <th>16523</th>\n      <td>925</td>\n      <td>906582</td>\n      <td>Эксплуатация уязвимостей</td>\n      <td>Обнаружена активность \"Эксплуатация уязвимосте...</td>\n      <td>Проникновение</td>\n      <td>1</td>\n      <td>9.97</td>\n      <td>['89929']</td>\n      <td>['1004']</td>\n      <td>2023-09-25 00:11:50.187</td>\n      <td>2023-09-25 01:11:50.187</td>\n      <td>night</td>\n      <td>0.000278</td>\n    </tr>\n    <tr>\n      <th>24345</th>\n      <td>942</td>\n      <td>134748</td>\n      <td>Сбор данных</td>\n      <td>Обнаружена активность \"Сбор данных\" с уязвимос...</td>\n      <td>Действия на целевом устройстве</td>\n      <td>1</td>\n      <td>6.13</td>\n      <td>['89589']</td>\n      <td>['1010', '1014', '1012', '1001']</td>\n      <td>2023-09-13 00:11:54.399</td>\n      <td>2023-09-13 01:11:54.399</td>\n      <td>night</td>\n      <td>0.000278</td>\n    </tr>\n    <tr>\n      <th>9246</th>\n      <td>993</td>\n      <td>800786</td>\n      <td>Фишинг</td>\n      <td>Обнаружена активность \"Фишинг\" с уязвимостями ...</td>\n      <td>Проникновение</td>\n      <td>1</td>\n      <td>7.59</td>\n      <td>['90851']</td>\n      <td>['1011', '1017', '1004']</td>\n      <td>2023-09-13 00:11:46.049</td>\n      <td>2023-09-13 01:11:46.049</td>\n      <td>night</td>\n      <td>0.000278</td>\n    </tr>\n    <tr>\n      <th>15781</th>\n      <td>924</td>\n      <td>408052</td>\n      <td>Сбор данных</td>\n      <td>Обнаружена активность \"Сбор данных\" с уязвимос...</td>\n      <td>Действия на целевом устройстве</td>\n      <td>1</td>\n      <td>4.94</td>\n      <td>['31350']</td>\n      <td>['1013', '1007']</td>\n      <td>2023-09-17 00:11:49.773</td>\n      <td>2023-09-17 01:10:49.773</td>\n      <td>night</td>\n      <td>0.000282</td>\n    </tr>\n    <tr>\n      <th>...</th>\n      <td>...</td>\n      <td>...</td>\n      <td>...</td>\n      <td>...</td>\n      <td>...</td>\n      <td>...</td>\n      <td>...</td>\n      <td>...</td>\n      <td>...</td>\n      <td>...</td>\n      <td>...</td>\n      <td>...</td>\n      <td>...</td>\n    </tr>\n    <tr>\n      <th>11365</th>\n      <td>995</td>\n      <td>965461</td>\n      <td>Сбор данных</td>\n      <td>Обнаружена активность \"Сбор данных\" с уязвимос...</td>\n      <td>Действия на целевом устройстве</td>\n      <td>98</td>\n      <td>7.92</td>\n      <td>['67023']</td>\n      <td>['1001']</td>\n      <td>2023-10-03 00:11:47.503</td>\n      <td>2023-10-03 00:12:47.503</td>\n      <td>night</td>\n      <td>1.633333</td>\n    </tr>\n    <tr>\n      <th>19575</th>\n      <td>932</td>\n      <td>419803</td>\n      <td>Web-инъекции</td>\n      <td>Обнаружена активность \"Web-инъекции\" с уязвимо...</td>\n      <td>Проникновение</td>\n      <td>99</td>\n      <td>3.52</td>\n      <td>['92003']</td>\n      <td>['1019', '1015']</td>\n      <td>2023-10-05 00:11:51.727</td>\n      <td>2023-10-05 00:12:51.727</td>\n      <td>night</td>\n      <td>1.650000</td>\n    </tr>\n    <tr>\n      <th>21554</th>\n      <td>934</td>\n      <td>436919</td>\n      <td>Сбор данных</td>\n      <td>Обнаружена активность \"Сбор данных\" с уязвимос...</td>\n      <td>Действия на целевом устройстве</td>\n      <td>99</td>\n      <td>9.64</td>\n      <td>['39459']</td>\n      <td>['1019']</td>\n      <td>2023-10-01 00:11:52.722</td>\n      <td>2023-10-01 00:12:52.722</td>\n      <td>night</td>\n      <td>1.650000</td>\n    </tr>\n    <tr>\n      <th>25742</th>\n      <td>943</td>\n      <td>620320</td>\n      <td>Маскировка</td>\n      <td>Обнаружена активность \"Маскировка\" с уязвимост...</td>\n      <td>Избежание обнаружения</td>\n      <td>100</td>\n      <td>5.83</td>\n      <td>['20638']</td>\n      <td>['1021', '1016', '1023']</td>\n      <td>2023-09-20 00:11:55.172</td>\n      <td>2023-09-20 00:12:55.172</td>\n      <td>night</td>\n      <td>1.666667</td>\n    </tr>\n    <tr>\n      <th>25467</th>\n      <td>943</td>\n      <td>407138</td>\n      <td>Маскировка</td>\n      <td>Обнаружена активность \"Маскировка\" с уязвимост...</td>\n      <td>Избежание обнаружения</td>\n      <td>100</td>\n      <td>5.62</td>\n      <td>['90603']</td>\n      <td>['1021']</td>\n      <td>2023-09-30 00:11:55.017</td>\n      <td>2023-09-30 00:12:55.017</td>\n      <td>night</td>\n      <td>1.666667</td>\n    </tr>\n  </tbody>\n</table>\n<p>19879 rows × 13 columns</p>\n</div>"
     },
     "execution_count": 31,
     "metadata": {},
     "output_type": "execute_result"
    }
   ],
   "source": [
    "df['start_time'] = pd.to_datetime(df.start_time)\n",
    "df['end_time'] = pd.to_datetime(df.end_time)\n",
    "df_copy = df.copy()\n",
    "df_copy['relation'] = df.apply(lambda x: x['events_count'] / (\n",
    "   (x['end_time'] - x['start_time']).total_seconds()\n",
    "), axis=1)\n",
    "df_copy\n",
    "\n",
    "df_copy.sort_values('relation', inplace=True)\n",
    "median = df.head(5)['crit_rate'].median()\n",
    "\n",
    "df_copy.loc[df.crit_rate > median]"
   ],
   "id": "de75dc48-af82-4251-af36-f261719996c9"
  },
  {
   "cell_type": "markdown",
   "metadata": {
    "id": "92c39fc8-633b-4ccb-babc-928612cbbd65"
   },
   "source": [
    "# Задание 5"
   ],
   "id": "92c39fc8-633b-4ccb-babc-928612cbbd65"
  },
  {
   "cell_type": "code",
   "execution_count": 32,
   "metadata": {
    "colab": {
     "base_uri": "https://localhost:8080/",
     "height": 1000
    },
    "id": "1a1af61f-a05e-41a3-b38b-e58faf6c0bf9",
    "scrolled": true,
    "outputId": "4f5c49c6-8828-4f75-c882-be5aa8687d2a",
    "ExecuteTime": {
     "end_time": "2023-12-17T08:52:14.390059600Z",
     "start_time": "2023-12-17T08:50:25.399065800Z"
    }
   },
   "outputs": [
    {
     "name": "stderr",
     "output_type": "stream",
     "text": [
      "C:\\Users\\79037\\AppData\\Local\\Temp\\ipykernel_13004\\3472571270.py:23: SettingWithCopyWarning: \n",
      "A value is trying to be set on a copy of a slice from a DataFrame.\n",
      "Try using .loc[row_indexer,col_indexer] = value instead\n",
      "\n",
      "See the caveats in the documentation: https://pandas.pydata.org/pandas-docs/stable/user_guide/indexing.html#returning-a-view-versus-a-copy\n",
      "  test_df['assets_id'] = test_df['assets_id'].apply(lambda x: str(x).replace(\"[\", '').replace(\"]\", '').replace(\"'\", ''))\n",
      "C:\\Users\\79037\\AppData\\Local\\Temp\\ipykernel_13004\\3472571270.py:24: SettingWithCopyWarning: \n",
      "A value is trying to be set on a copy of a slice from a DataFrame.\n",
      "Try using .loc[row_indexer,col_indexer] = value instead\n",
      "\n",
      "See the caveats in the documentation: https://pandas.pydata.org/pandas-docs/stable/user_guide/indexing.html#returning-a-view-versus-a-copy\n",
      "  test_df['avg_access_level'] = test_df.assets_id.apply(get_level_access_by_asset_id)\n"
     ]
    },
    {
     "ename": "KeyError",
     "evalue": "('', '', '')",
     "output_type": "error",
     "traceback": [
      "\u001B[1;31m---------------------------------------------------------------------------\u001B[0m",
      "\u001B[1;31mKeyError\u001B[0m                                  Traceback (most recent call last)",
      "File \u001B[1;32mD:\\Учёба\\Python\\PyCharm\\venv\\Lib\\site-packages\\pandas\\core\\indexes\\base.py:3790\u001B[0m, in \u001B[0;36mIndex.get_loc\u001B[1;34m(self, key)\u001B[0m\n\u001B[0;32m   3789\u001B[0m \u001B[38;5;28;01mtry\u001B[39;00m:\n\u001B[1;32m-> 3790\u001B[0m     \u001B[38;5;28;01mreturn\u001B[39;00m \u001B[38;5;28;43mself\u001B[39;49m\u001B[38;5;241;43m.\u001B[39;49m\u001B[43m_engine\u001B[49m\u001B[38;5;241;43m.\u001B[39;49m\u001B[43mget_loc\u001B[49m\u001B[43m(\u001B[49m\u001B[43mcasted_key\u001B[49m\u001B[43m)\u001B[49m\n\u001B[0;32m   3791\u001B[0m \u001B[38;5;28;01mexcept\u001B[39;00m \u001B[38;5;167;01mKeyError\u001B[39;00m \u001B[38;5;28;01mas\u001B[39;00m err:\n",
      "File \u001B[1;32mindex.pyx:152\u001B[0m, in \u001B[0;36mpandas._libs.index.IndexEngine.get_loc\u001B[1;34m()\u001B[0m\n",
      "File \u001B[1;32mindex.pyx:181\u001B[0m, in \u001B[0;36mpandas._libs.index.IndexEngine.get_loc\u001B[1;34m()\u001B[0m\n",
      "File \u001B[1;32mpandas\\_libs\\hashtable_class_helper.pxi:7080\u001B[0m, in \u001B[0;36mpandas._libs.hashtable.PyObjectHashTable.get_item\u001B[1;34m()\u001B[0m\n",
      "File \u001B[1;32mpandas\\_libs\\hashtable_class_helper.pxi:7088\u001B[0m, in \u001B[0;36mpandas._libs.hashtable.PyObjectHashTable.get_item\u001B[1;34m()\u001B[0m\n",
      "\u001B[1;31mKeyError\u001B[0m: ('', '', '')",
      "\nThe above exception was the direct cause of the following exception:\n",
      "\u001B[1;31mKeyError\u001B[0m                                  Traceback (most recent call last)",
      "Cell \u001B[1;32mIn[32], line 26\u001B[0m\n\u001B[0;32m     23\u001B[0m test_df[\u001B[38;5;124m'\u001B[39m\u001B[38;5;124massets_id\u001B[39m\u001B[38;5;124m'\u001B[39m] \u001B[38;5;241m=\u001B[39m test_df[\u001B[38;5;124m'\u001B[39m\u001B[38;5;124massets_id\u001B[39m\u001B[38;5;124m'\u001B[39m]\u001B[38;5;241m.\u001B[39mapply(\u001B[38;5;28;01mlambda\u001B[39;00m x: \u001B[38;5;28mstr\u001B[39m(x)\u001B[38;5;241m.\u001B[39mreplace(\u001B[38;5;124m\"\u001B[39m\u001B[38;5;124m[\u001B[39m\u001B[38;5;124m\"\u001B[39m, \u001B[38;5;124m'\u001B[39m\u001B[38;5;124m'\u001B[39m)\u001B[38;5;241m.\u001B[39mreplace(\u001B[38;5;124m\"\u001B[39m\u001B[38;5;124m]\u001B[39m\u001B[38;5;124m\"\u001B[39m, \u001B[38;5;124m'\u001B[39m\u001B[38;5;124m'\u001B[39m)\u001B[38;5;241m.\u001B[39mreplace(\u001B[38;5;124m\"\u001B[39m\u001B[38;5;124m'\u001B[39m\u001B[38;5;124m\"\u001B[39m, \u001B[38;5;124m'\u001B[39m\u001B[38;5;124m'\u001B[39m))\n\u001B[0;32m     24\u001B[0m test_df[\u001B[38;5;124m'\u001B[39m\u001B[38;5;124mavg_access_level\u001B[39m\u001B[38;5;124m'\u001B[39m] \u001B[38;5;241m=\u001B[39m test_df\u001B[38;5;241m.\u001B[39massets_id\u001B[38;5;241m.\u001B[39mapply(get_level_access_by_asset_id)\n\u001B[1;32m---> 26\u001B[0m result_df \u001B[38;5;241m=\u001B[39m \u001B[43mtest_df\u001B[49m\u001B[38;5;241;43m.\u001B[39;49m\u001B[43mgroupby\u001B[49m\u001B[43m(\u001B[49m\u001B[38;5;124;43m'\u001B[39;49m\u001B[38;5;124;43mname\u001B[39;49m\u001B[38;5;124;43m'\u001B[39;49m\u001B[43m)\u001B[49m\u001B[38;5;241;43m.\u001B[39;49m\u001B[43mapply\u001B[49m\u001B[43m(\u001B[49m\u001B[38;5;28;43;01mlambda\u001B[39;49;00m\u001B[43m \u001B[49m\u001B[43mgroup\u001B[49m\u001B[43m:\u001B[49m\u001B[43m \u001B[49m\u001B[43mgroup\u001B[49m\u001B[43m[\u001B[49m\u001B[38;5;124;43m'\u001B[39;49m\u001B[38;5;124;43m'\u001B[39;49m\u001B[43m,\u001B[49m\u001B[43m \u001B[49m\u001B[38;5;124;43m'\u001B[39;49m\u001B[38;5;124;43m'\u001B[39;49m\u001B[43m \u001B[49m\u001B[43m,\u001B[49m\u001B[38;5;124;43m'\u001B[39;49m\u001B[38;5;124;43m'\u001B[39;49m\u001B[43m]\u001B[49m\u001B[38;5;241;43m.\u001B[39;49m\u001B[43mcorr\u001B[49m\u001B[43m(\u001B[49m\u001B[43m)\u001B[49m\u001B[43m)\u001B[49m\n\u001B[0;32m     27\u001B[0m result_df\n",
      "File \u001B[1;32mD:\\Учёба\\Python\\PyCharm\\venv\\Lib\\site-packages\\pandas\\core\\groupby\\groupby.py:1770\u001B[0m, in \u001B[0;36mGroupBy.apply\u001B[1;34m(self, func, *args, **kwargs)\u001B[0m\n\u001B[0;32m   1768\u001B[0m \u001B[38;5;28;01mwith\u001B[39;00m option_context(\u001B[38;5;124m\"\u001B[39m\u001B[38;5;124mmode.chained_assignment\u001B[39m\u001B[38;5;124m\"\u001B[39m, \u001B[38;5;28;01mNone\u001B[39;00m):\n\u001B[0;32m   1769\u001B[0m     \u001B[38;5;28;01mtry\u001B[39;00m:\n\u001B[1;32m-> 1770\u001B[0m         result \u001B[38;5;241m=\u001B[39m \u001B[38;5;28;43mself\u001B[39;49m\u001B[38;5;241;43m.\u001B[39;49m\u001B[43m_python_apply_general\u001B[49m\u001B[43m(\u001B[49m\u001B[43mf\u001B[49m\u001B[43m,\u001B[49m\u001B[43m \u001B[49m\u001B[38;5;28;43mself\u001B[39;49m\u001B[38;5;241;43m.\u001B[39;49m\u001B[43m_selected_obj\u001B[49m\u001B[43m)\u001B[49m\n\u001B[0;32m   1771\u001B[0m     \u001B[38;5;28;01mexcept\u001B[39;00m \u001B[38;5;167;01mTypeError\u001B[39;00m:\n\u001B[0;32m   1772\u001B[0m         \u001B[38;5;66;03m# gh-20949\u001B[39;00m\n\u001B[0;32m   1773\u001B[0m         \u001B[38;5;66;03m# try again, with .apply acting as a filtering\u001B[39;00m\n\u001B[1;32m   (...)\u001B[0m\n\u001B[0;32m   1777\u001B[0m         \u001B[38;5;66;03m# fails on *some* columns, e.g. a numeric operation\u001B[39;00m\n\u001B[0;32m   1778\u001B[0m         \u001B[38;5;66;03m# on a string grouper column\u001B[39;00m\n\u001B[0;32m   1780\u001B[0m         \u001B[38;5;28;01mreturn\u001B[39;00m \u001B[38;5;28mself\u001B[39m\u001B[38;5;241m.\u001B[39m_python_apply_general(f, \u001B[38;5;28mself\u001B[39m\u001B[38;5;241m.\u001B[39m_obj_with_exclusions)\n",
      "File \u001B[1;32mD:\\Учёба\\Python\\PyCharm\\venv\\Lib\\site-packages\\pandas\\core\\groupby\\groupby.py:1819\u001B[0m, in \u001B[0;36mGroupBy._python_apply_general\u001B[1;34m(self, f, data, not_indexed_same, is_transform, is_agg)\u001B[0m\n\u001B[0;32m   1784\u001B[0m \u001B[38;5;129m@final\u001B[39m\n\u001B[0;32m   1785\u001B[0m \u001B[38;5;28;01mdef\u001B[39;00m \u001B[38;5;21m_python_apply_general\u001B[39m(\n\u001B[0;32m   1786\u001B[0m     \u001B[38;5;28mself\u001B[39m,\n\u001B[1;32m   (...)\u001B[0m\n\u001B[0;32m   1791\u001B[0m     is_agg: \u001B[38;5;28mbool\u001B[39m \u001B[38;5;241m=\u001B[39m \u001B[38;5;28;01mFalse\u001B[39;00m,\n\u001B[0;32m   1792\u001B[0m ) \u001B[38;5;241m-\u001B[39m\u001B[38;5;241m>\u001B[39m NDFrameT:\n\u001B[0;32m   1793\u001B[0m \u001B[38;5;250m    \u001B[39m\u001B[38;5;124;03m\"\"\"\u001B[39;00m\n\u001B[0;32m   1794\u001B[0m \u001B[38;5;124;03m    Apply function f in python space\u001B[39;00m\n\u001B[0;32m   1795\u001B[0m \n\u001B[1;32m   (...)\u001B[0m\n\u001B[0;32m   1817\u001B[0m \u001B[38;5;124;03m        data after applying f\u001B[39;00m\n\u001B[0;32m   1818\u001B[0m \u001B[38;5;124;03m    \"\"\"\u001B[39;00m\n\u001B[1;32m-> 1819\u001B[0m     values, mutated \u001B[38;5;241m=\u001B[39m \u001B[38;5;28;43mself\u001B[39;49m\u001B[38;5;241;43m.\u001B[39;49m\u001B[43mgrouper\u001B[49m\u001B[38;5;241;43m.\u001B[39;49m\u001B[43mapply_groupwise\u001B[49m\u001B[43m(\u001B[49m\u001B[43mf\u001B[49m\u001B[43m,\u001B[49m\u001B[43m \u001B[49m\u001B[43mdata\u001B[49m\u001B[43m,\u001B[49m\u001B[43m \u001B[49m\u001B[38;5;28;43mself\u001B[39;49m\u001B[38;5;241;43m.\u001B[39;49m\u001B[43maxis\u001B[49m\u001B[43m)\u001B[49m\n\u001B[0;32m   1820\u001B[0m     \u001B[38;5;28;01mif\u001B[39;00m not_indexed_same \u001B[38;5;129;01mis\u001B[39;00m \u001B[38;5;28;01mNone\u001B[39;00m:\n\u001B[0;32m   1821\u001B[0m         not_indexed_same \u001B[38;5;241m=\u001B[39m mutated\n",
      "File \u001B[1;32mD:\\Учёба\\Python\\PyCharm\\venv\\Lib\\site-packages\\pandas\\core\\groupby\\ops.py:905\u001B[0m, in \u001B[0;36mBaseGrouper.apply_groupwise\u001B[1;34m(self, f, data, axis)\u001B[0m\n\u001B[0;32m    903\u001B[0m \u001B[38;5;66;03m# group might be modified\u001B[39;00m\n\u001B[0;32m    904\u001B[0m group_axes \u001B[38;5;241m=\u001B[39m group\u001B[38;5;241m.\u001B[39maxes\n\u001B[1;32m--> 905\u001B[0m res \u001B[38;5;241m=\u001B[39m \u001B[43mf\u001B[49m\u001B[43m(\u001B[49m\u001B[43mgroup\u001B[49m\u001B[43m)\u001B[49m\n\u001B[0;32m    906\u001B[0m \u001B[38;5;28;01mif\u001B[39;00m \u001B[38;5;129;01mnot\u001B[39;00m mutated \u001B[38;5;129;01mand\u001B[39;00m \u001B[38;5;129;01mnot\u001B[39;00m _is_indexed_like(res, group_axes, axis):\n\u001B[0;32m    907\u001B[0m     mutated \u001B[38;5;241m=\u001B[39m \u001B[38;5;28;01mTrue\u001B[39;00m\n",
      "Cell \u001B[1;32mIn[32], line 26\u001B[0m, in \u001B[0;36m<lambda>\u001B[1;34m(group)\u001B[0m\n\u001B[0;32m     23\u001B[0m test_df[\u001B[38;5;124m'\u001B[39m\u001B[38;5;124massets_id\u001B[39m\u001B[38;5;124m'\u001B[39m] \u001B[38;5;241m=\u001B[39m test_df[\u001B[38;5;124m'\u001B[39m\u001B[38;5;124massets_id\u001B[39m\u001B[38;5;124m'\u001B[39m]\u001B[38;5;241m.\u001B[39mapply(\u001B[38;5;28;01mlambda\u001B[39;00m x: \u001B[38;5;28mstr\u001B[39m(x)\u001B[38;5;241m.\u001B[39mreplace(\u001B[38;5;124m\"\u001B[39m\u001B[38;5;124m[\u001B[39m\u001B[38;5;124m\"\u001B[39m, \u001B[38;5;124m'\u001B[39m\u001B[38;5;124m'\u001B[39m)\u001B[38;5;241m.\u001B[39mreplace(\u001B[38;5;124m\"\u001B[39m\u001B[38;5;124m]\u001B[39m\u001B[38;5;124m\"\u001B[39m, \u001B[38;5;124m'\u001B[39m\u001B[38;5;124m'\u001B[39m)\u001B[38;5;241m.\u001B[39mreplace(\u001B[38;5;124m\"\u001B[39m\u001B[38;5;124m'\u001B[39m\u001B[38;5;124m\"\u001B[39m, \u001B[38;5;124m'\u001B[39m\u001B[38;5;124m'\u001B[39m))\n\u001B[0;32m     24\u001B[0m test_df[\u001B[38;5;124m'\u001B[39m\u001B[38;5;124mavg_access_level\u001B[39m\u001B[38;5;124m'\u001B[39m] \u001B[38;5;241m=\u001B[39m test_df\u001B[38;5;241m.\u001B[39massets_id\u001B[38;5;241m.\u001B[39mapply(get_level_access_by_asset_id)\n\u001B[1;32m---> 26\u001B[0m result_df \u001B[38;5;241m=\u001B[39m test_df\u001B[38;5;241m.\u001B[39mgroupby(\u001B[38;5;124m'\u001B[39m\u001B[38;5;124mname\u001B[39m\u001B[38;5;124m'\u001B[39m)\u001B[38;5;241m.\u001B[39mapply(\u001B[38;5;28;01mlambda\u001B[39;00m group: \u001B[43mgroup\u001B[49m\u001B[43m[\u001B[49m\u001B[38;5;124;43m'\u001B[39;49m\u001B[38;5;124;43m'\u001B[39;49m\u001B[43m,\u001B[49m\u001B[43m \u001B[49m\u001B[38;5;124;43m'\u001B[39;49m\u001B[38;5;124;43m'\u001B[39;49m\u001B[43m \u001B[49m\u001B[43m,\u001B[49m\u001B[38;5;124;43m'\u001B[39;49m\u001B[38;5;124;43m'\u001B[39;49m\u001B[43m]\u001B[49m\u001B[38;5;241m.\u001B[39mcorr())\n\u001B[0;32m     27\u001B[0m result_df\n",
      "File \u001B[1;32mD:\\Учёба\\Python\\PyCharm\\venv\\Lib\\site-packages\\pandas\\core\\frame.py:3893\u001B[0m, in \u001B[0;36mDataFrame.__getitem__\u001B[1;34m(self, key)\u001B[0m\n\u001B[0;32m   3891\u001B[0m \u001B[38;5;28;01mif\u001B[39;00m \u001B[38;5;28mself\u001B[39m\u001B[38;5;241m.\u001B[39mcolumns\u001B[38;5;241m.\u001B[39mnlevels \u001B[38;5;241m>\u001B[39m \u001B[38;5;241m1\u001B[39m:\n\u001B[0;32m   3892\u001B[0m     \u001B[38;5;28;01mreturn\u001B[39;00m \u001B[38;5;28mself\u001B[39m\u001B[38;5;241m.\u001B[39m_getitem_multilevel(key)\n\u001B[1;32m-> 3893\u001B[0m indexer \u001B[38;5;241m=\u001B[39m \u001B[38;5;28;43mself\u001B[39;49m\u001B[38;5;241;43m.\u001B[39;49m\u001B[43mcolumns\u001B[49m\u001B[38;5;241;43m.\u001B[39;49m\u001B[43mget_loc\u001B[49m\u001B[43m(\u001B[49m\u001B[43mkey\u001B[49m\u001B[43m)\u001B[49m\n\u001B[0;32m   3894\u001B[0m \u001B[38;5;28;01mif\u001B[39;00m is_integer(indexer):\n\u001B[0;32m   3895\u001B[0m     indexer \u001B[38;5;241m=\u001B[39m [indexer]\n",
      "File \u001B[1;32mD:\\Учёба\\Python\\PyCharm\\venv\\Lib\\site-packages\\pandas\\core\\indexes\\base.py:3797\u001B[0m, in \u001B[0;36mIndex.get_loc\u001B[1;34m(self, key)\u001B[0m\n\u001B[0;32m   3792\u001B[0m     \u001B[38;5;28;01mif\u001B[39;00m \u001B[38;5;28misinstance\u001B[39m(casted_key, \u001B[38;5;28mslice\u001B[39m) \u001B[38;5;129;01mor\u001B[39;00m (\n\u001B[0;32m   3793\u001B[0m         \u001B[38;5;28misinstance\u001B[39m(casted_key, abc\u001B[38;5;241m.\u001B[39mIterable)\n\u001B[0;32m   3794\u001B[0m         \u001B[38;5;129;01mand\u001B[39;00m \u001B[38;5;28many\u001B[39m(\u001B[38;5;28misinstance\u001B[39m(x, \u001B[38;5;28mslice\u001B[39m) \u001B[38;5;28;01mfor\u001B[39;00m x \u001B[38;5;129;01min\u001B[39;00m casted_key)\n\u001B[0;32m   3795\u001B[0m     ):\n\u001B[0;32m   3796\u001B[0m         \u001B[38;5;28;01mraise\u001B[39;00m InvalidIndexError(key)\n\u001B[1;32m-> 3797\u001B[0m     \u001B[38;5;28;01mraise\u001B[39;00m \u001B[38;5;167;01mKeyError\u001B[39;00m(key) \u001B[38;5;28;01mfrom\u001B[39;00m \u001B[38;5;21;01merr\u001B[39;00m\n\u001B[0;32m   3798\u001B[0m \u001B[38;5;28;01mexcept\u001B[39;00m \u001B[38;5;167;01mTypeError\u001B[39;00m:\n\u001B[0;32m   3799\u001B[0m     \u001B[38;5;66;03m# If we have a listlike key, _check_indexing_error will raise\u001B[39;00m\n\u001B[0;32m   3800\u001B[0m     \u001B[38;5;66;03m#  InvalidIndexError. Otherwise we fall through and re-raise\u001B[39;00m\n\u001B[0;32m   3801\u001B[0m     \u001B[38;5;66;03m#  the TypeError.\u001B[39;00m\n\u001B[0;32m   3802\u001B[0m     \u001B[38;5;28mself\u001B[39m\u001B[38;5;241m.\u001B[39m_check_indexing_error(key)\n",
      "\u001B[1;31mKeyError\u001B[0m: ('', '', '')"
     ]
    }
   ],
   "source": [
    "user_access_levels = {\n",
    "    \"admin\": 1,\n",
    "    \"user123\": 0.4,\n",
    "    \"dbadmin\": 0.8,\n",
    "    \"guest\": 0.2,\n",
    "    \"developer\": 0.7,\n",
    "    \"tester\": 0.75,\n",
    "    \"analyst\": 0.6,\n",
    "    \"operator\": 0.5,\n",
    "    \"manager\": 0.65,\n",
    "    \"consultant\": 0.55,\n",
    "}\n",
    "\n",
    "def get_level_access_by_asset_id(assets_id):\n",
    "    users_levels = []\n",
    "    for asset_id in assets_id.split(','):\n",
    "        user = requests.get(f'{API_URL}/get-asset-by-id', params={'asset-id': asset_id}).json().get('result', {}).get('account_name')\n",
    "        users_levels.append(user_access_levels[user])\n",
    "    return sum(users_levels) / len(users_levels)\n",
    "\n",
    "# to reduce requests count\n",
    "test_df = df.head(100)\n",
    "test_df['assets_id'] = test_df['assets_id'].apply(lambda x: str(x).replace(\"[\", '').replace(\"]\", '').replace(\"'\", ''))\n",
    "test_df['avg_access_level'] = test_df.assets_id.apply(get_level_access_by_asset_id)\n",
    "\n",
    "result_df = test_df.groupby('name').apply(lambda group: group['', '' ,''].corr())\n",
    "result_df"
   ],
   "id": "1a1af61f-a05e-41a3-b38b-e58faf6c0bf9"
  },
  {
   "cell_type": "code",
   "source": [],
   "metadata": {
    "id": "2dkhwnZbYxpa",
    "ExecuteTime": {
     "start_time": "2023-12-17T08:52:14.388612600Z"
    }
   },
   "id": "2dkhwnZbYxpa",
   "execution_count": null,
   "outputs": []
  },
  {
   "cell_type": "code",
   "execution_count": null,
   "metadata": {
    "colab": {
     "base_uri": "https://localhost:8080/"
    },
    "id": "7d0e2990-ee8f-4174-89c2-356bd100eb57",
    "outputId": "5eed4e2e-8cf7-4a56-d700-e9b7b5038e77",
    "ExecuteTime": {
     "end_time": "2023-12-17T08:52:14.393673300Z",
     "start_time": "2023-12-17T08:52:14.393673300Z"
    }
   },
   "outputs": [],
   "source": [
    "result_df.drop(result_df[(result_df['avg_access_level'] == -1.0)].index, inplace=True)\n",
    "result_df.drop(result_df[(result_df['avg_access_level'] == 1.0)].index, inplace=True)\n",
    "print(result_df[(result_df['avg_access_level'].abs() == result_df['avg_access_level'].abs().max())].index)"
   ],
   "id": "7d0e2990-ee8f-4174-89c2-356bd100eb57"
  },
  {
   "cell_type": "code",
   "execution_count": null,
   "metadata": {
    "id": "8ea39c19-93b6-4a84-8df7-be9da875cea4",
    "colab": {
     "base_uri": "https://localhost:8080/",
     "height": 143
    },
    "outputId": "c3b3f853-584b-44d5-e29f-ab753f81f4a7",
    "ExecuteTime": {
     "start_time": "2023-12-17T08:52:14.397850Z"
    }
   },
   "outputs": [],
   "source": [
    "result_df[(result_df['avg_access_level'].abs() == result_df['avg_access_level'].abs().max())]"
   ],
   "id": "8ea39c19-93b6-4a84-8df7-be9da875cea4"
  },
  {
   "cell_type": "code",
   "source": [],
   "metadata": {
    "id": "EXp9DjCdYyUG",
    "ExecuteTime": {
     "start_time": "2023-12-17T08:52:14.400058800Z"
    }
   },
   "id": "EXp9DjCdYyUG",
   "execution_count": null,
   "outputs": []
  }
 ],
 "metadata": {
  "colab": {
   "provenance": []
  },
  "kernelspec": {
   "display_name": "Python 3 (ipykernel)",
   "language": "python",
   "name": "python3"
  },
  "language_info": {
   "codemirror_mode": {
    "name": "ipython",
    "version": 3
   },
   "file_extension": ".py",
   "mimetype": "text/x-python",
   "name": "python",
   "nbconvert_exporter": "python",
   "pygments_lexer": "ipython3",
   "version": "3.11.6"
  }
 },
 "nbformat": 4,
 "nbformat_minor": 5
}
