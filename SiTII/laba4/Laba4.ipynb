{
 "cells": [
  {
   "cell_type": "code",
   "execution_count": 104,
   "id": "initial_id",
   "metadata": {
    "collapsed": true,
    "ExecuteTime": {
     "end_time": "2023-12-17T09:57:27.890836100Z",
     "start_time": "2023-12-17T09:57:27.769891400Z"
    }
   },
   "outputs": [],
   "source": [
    "import pandas as pd\n"
   ]
  },
  {
   "cell_type": "markdown",
   "source": [
    "#Задание 1"
   ],
   "metadata": {
    "collapsed": false
   },
   "id": "42e59949a474fa6"
  },
  {
   "cell_type": "code",
   "execution_count": 105,
   "outputs": [
    {
     "data": {
      "text/plain": "               team             id  events_count     crit_rate\ncount  28000.000000   28000.000000  28000.000000  28000.000000\nmean     938.714286  551109.067000     50.327571      5.051400\nstd       27.209803  259009.437919     28.888730      2.856262\nmin      911.000000  100018.000000      1.000000      0.100000\n25%      920.000000  326425.250000     25.000000      2.620000\n50%      931.500000  551577.500000     50.000000      5.030000\n75%      943.250000  774950.250000     75.000000      7.540000\nmax      995.000000  999966.000000    100.000000     10.000000",
      "text/html": "<div>\n<style scoped>\n    .dataframe tbody tr th:only-of-type {\n        vertical-align: middle;\n    }\n\n    .dataframe tbody tr th {\n        vertical-align: top;\n    }\n\n    .dataframe thead th {\n        text-align: right;\n    }\n</style>\n<table border=\"1\" class=\"dataframe\">\n  <thead>\n    <tr style=\"text-align: right;\">\n      <th></th>\n      <th>team</th>\n      <th>id</th>\n      <th>events_count</th>\n      <th>crit_rate</th>\n    </tr>\n  </thead>\n  <tbody>\n    <tr>\n      <th>count</th>\n      <td>28000.000000</td>\n      <td>28000.000000</td>\n      <td>28000.000000</td>\n      <td>28000.000000</td>\n    </tr>\n    <tr>\n      <th>mean</th>\n      <td>938.714286</td>\n      <td>551109.067000</td>\n      <td>50.327571</td>\n      <td>5.051400</td>\n    </tr>\n    <tr>\n      <th>std</th>\n      <td>27.209803</td>\n      <td>259009.437919</td>\n      <td>28.888730</td>\n      <td>2.856262</td>\n    </tr>\n    <tr>\n      <th>min</th>\n      <td>911.000000</td>\n      <td>100018.000000</td>\n      <td>1.000000</td>\n      <td>0.100000</td>\n    </tr>\n    <tr>\n      <th>25%</th>\n      <td>920.000000</td>\n      <td>326425.250000</td>\n      <td>25.000000</td>\n      <td>2.620000</td>\n    </tr>\n    <tr>\n      <th>50%</th>\n      <td>931.500000</td>\n      <td>551577.500000</td>\n      <td>50.000000</td>\n      <td>5.030000</td>\n    </tr>\n    <tr>\n      <th>75%</th>\n      <td>943.250000</td>\n      <td>774950.250000</td>\n      <td>75.000000</td>\n      <td>7.540000</td>\n    </tr>\n    <tr>\n      <th>max</th>\n      <td>995.000000</td>\n      <td>999966.000000</td>\n      <td>100.000000</td>\n      <td>10.000000</td>\n    </tr>\n  </tbody>\n</table>\n</div>"
     },
     "execution_count": 105,
     "metadata": {},
     "output_type": "execute_result"
    }
   ],
   "source": [
    "df=pd.read_csv('incidents.csv')\n",
    "df.describe()\n"
   ],
   "metadata": {
    "collapsed": false,
    "ExecuteTime": {
     "end_time": "2023-12-17T09:57:28.141389100Z",
     "start_time": "2023-12-17T09:57:27.895818400Z"
    }
   },
   "id": "766d514c1c36b794"
  },
  {
   "cell_type": "code",
   "execution_count": 106,
   "outputs": [
    {
     "name": "stdout",
     "output_type": "stream",
     "text": [
      "<class 'pandas.core.frame.DataFrame'>\n",
      "RangeIndex: 28000 entries, 0 to 27999\n",
      "Data columns (total 11 columns):\n",
      " #   Column              Non-Null Count  Dtype  \n",
      "---  ------              --------------  -----  \n",
      " 0   team                28000 non-null  int64  \n",
      " 1   id                  28000 non-null  int64  \n",
      " 2   name                28000 non-null  object \n",
      " 3   description         28000 non-null  object \n",
      " 4   type                28000 non-null  object \n",
      " 5   events_count        28000 non-null  int64  \n",
      " 6   crit_rate           28000 non-null  float64\n",
      " 7   assets_id           28000 non-null  object \n",
      " 8   vulnerabilities_id  28000 non-null  object \n",
      " 9   start_time          28000 non-null  object \n",
      " 10  end_time            28000 non-null  object \n",
      "dtypes: float64(1), int64(3), object(7)\n",
      "memory usage: 2.3+ MB\n"
     ]
    }
   ],
   "source": [
    "df.info()"
   ],
   "metadata": {
    "collapsed": false,
    "ExecuteTime": {
     "end_time": "2023-12-17T09:57:28.191930700Z",
     "start_time": "2023-12-17T09:57:28.140389200Z"
    }
   },
   "id": "92d4e78e1c531ec"
  },
  {
   "cell_type": "code",
   "execution_count": 107,
   "outputs": [
    {
     "data": {
      "text/plain": "                           name  \\\ncount                     28000   \nunique                       24   \ntop     Удаление учетных данных   \nfreq                       2419   \n\n                                              description            type  \\\ncount                                               28000           28000   \nunique                                              19871               6   \ntop     Обнаружена активность \"Удаление учетных данных...  Повышение прав   \nfreq                                                   33            4734   \n\n        assets_id vulnerabilities_id               start_time  \\\ncount       28000              28000                    28000   \nunique       5698              12976                    27513   \ntop     ['50126']           ['1021']  2023-10-02 00:11:51.546   \nfreq           37                307                        2   \n\n                       end_time  \ncount                     28000  \nunique                    27993  \ntop     2023-10-10 00:19:42.171  \nfreq                          2  ",
      "text/html": "<div>\n<style scoped>\n    .dataframe tbody tr th:only-of-type {\n        vertical-align: middle;\n    }\n\n    .dataframe tbody tr th {\n        vertical-align: top;\n    }\n\n    .dataframe thead th {\n        text-align: right;\n    }\n</style>\n<table border=\"1\" class=\"dataframe\">\n  <thead>\n    <tr style=\"text-align: right;\">\n      <th></th>\n      <th>name</th>\n      <th>description</th>\n      <th>type</th>\n      <th>assets_id</th>\n      <th>vulnerabilities_id</th>\n      <th>start_time</th>\n      <th>end_time</th>\n    </tr>\n  </thead>\n  <tbody>\n    <tr>\n      <th>count</th>\n      <td>28000</td>\n      <td>28000</td>\n      <td>28000</td>\n      <td>28000</td>\n      <td>28000</td>\n      <td>28000</td>\n      <td>28000</td>\n    </tr>\n    <tr>\n      <th>unique</th>\n      <td>24</td>\n      <td>19871</td>\n      <td>6</td>\n      <td>5698</td>\n      <td>12976</td>\n      <td>27513</td>\n      <td>27993</td>\n    </tr>\n    <tr>\n      <th>top</th>\n      <td>Удаление учетных данных</td>\n      <td>Обнаружена активность \"Удаление учетных данных...</td>\n      <td>Повышение прав</td>\n      <td>['50126']</td>\n      <td>['1021']</td>\n      <td>2023-10-02 00:11:51.546</td>\n      <td>2023-10-10 00:19:42.171</td>\n    </tr>\n    <tr>\n      <th>freq</th>\n      <td>2419</td>\n      <td>33</td>\n      <td>4734</td>\n      <td>37</td>\n      <td>307</td>\n      <td>2</td>\n      <td>2</td>\n    </tr>\n  </tbody>\n</table>\n</div>"
     },
     "execution_count": 107,
     "metadata": {},
     "output_type": "execute_result"
    }
   ],
   "source": [
    "df.describe(include=[\"object\"])"
   ],
   "metadata": {
    "collapsed": false,
    "ExecuteTime": {
     "end_time": "2023-12-17T09:57:28.360195700Z",
     "start_time": "2023-12-17T09:57:28.164946Z"
    }
   },
   "id": "6583cb28cbe74202"
  },
  {
   "cell_type": "code",
   "execution_count": 108,
   "outputs": [
    {
     "data": {
      "text/plain": "       team      id                         name  \\\n23600   941  149112                          SSH   \n24877   942  298625  Управление учетными данными   \n27109   945  579752              Доступ к файлам   \n663     911  201664          Токсичные бинарники   \n16444   925  776621                   Маскировка   \n\n                                             description  \\\n23600  Обнаружена активность \"SSH\" с уязвимостями 102...   \n24877  Обнаружена активность \"Управление учетными дан...   \n27109  Обнаружена активность \"Доступ к файлам\" с уязв...   \n663    Обнаружена активность \"Токсичные бинарники\" с ...   \n16444  Обнаружена активность \"Маскировка\" с уязвимост...   \n\n                                 type  events_count  crit_rate  \\\n23600            Боковое передвижение            49       10.0   \n24877                  Повышение прав            88       10.0   \n27109  Действия на целевом устройстве            93       10.0   \n663                       Закрепление             3       10.0   \n16444           Избежание обнаружения            95       10.0   \n\n                assets_id                vulnerabilities_id  \\\n23600  ['32105', '48670']  ['1023', '1024', '1020', '1011']   \n24877           ['35820']          ['1001', '1003', '1017']   \n27109           ['51650']          ['1023', '1024', '1007']   \n663             ['43360']                  ['1024', '1023']   \n16444           ['15358']                  ['1024', '1015']   \n\n                    start_time                 end_time  \n23600  2023-09-25 00:11:53.865  2023-09-25 00:18:53.865  \n24877  2023-10-03 00:11:54.725  2023-10-03 00:24:54.725  \n27109  2023-09-26 00:11:55.861  2023-09-26 00:15:55.861  \n663    2023-10-05 00:11:41.458  2023-10-05 00:46:41.458  \n16444  2023-09-18 00:11:50.136  2023-09-18 01:08:50.136  ",
      "text/html": "<div>\n<style scoped>\n    .dataframe tbody tr th:only-of-type {\n        vertical-align: middle;\n    }\n\n    .dataframe tbody tr th {\n        vertical-align: top;\n    }\n\n    .dataframe thead th {\n        text-align: right;\n    }\n</style>\n<table border=\"1\" class=\"dataframe\">\n  <thead>\n    <tr style=\"text-align: right;\">\n      <th></th>\n      <th>team</th>\n      <th>id</th>\n      <th>name</th>\n      <th>description</th>\n      <th>type</th>\n      <th>events_count</th>\n      <th>crit_rate</th>\n      <th>assets_id</th>\n      <th>vulnerabilities_id</th>\n      <th>start_time</th>\n      <th>end_time</th>\n    </tr>\n  </thead>\n  <tbody>\n    <tr>\n      <th>23600</th>\n      <td>941</td>\n      <td>149112</td>\n      <td>SSH</td>\n      <td>Обнаружена активность \"SSH\" с уязвимостями 102...</td>\n      <td>Боковое передвижение</td>\n      <td>49</td>\n      <td>10.0</td>\n      <td>['32105', '48670']</td>\n      <td>['1023', '1024', '1020', '1011']</td>\n      <td>2023-09-25 00:11:53.865</td>\n      <td>2023-09-25 00:18:53.865</td>\n    </tr>\n    <tr>\n      <th>24877</th>\n      <td>942</td>\n      <td>298625</td>\n      <td>Управление учетными данными</td>\n      <td>Обнаружена активность \"Управление учетными дан...</td>\n      <td>Повышение прав</td>\n      <td>88</td>\n      <td>10.0</td>\n      <td>['35820']</td>\n      <td>['1001', '1003', '1017']</td>\n      <td>2023-10-03 00:11:54.725</td>\n      <td>2023-10-03 00:24:54.725</td>\n    </tr>\n    <tr>\n      <th>27109</th>\n      <td>945</td>\n      <td>579752</td>\n      <td>Доступ к файлам</td>\n      <td>Обнаружена активность \"Доступ к файлам\" с уязв...</td>\n      <td>Действия на целевом устройстве</td>\n      <td>93</td>\n      <td>10.0</td>\n      <td>['51650']</td>\n      <td>['1023', '1024', '1007']</td>\n      <td>2023-09-26 00:11:55.861</td>\n      <td>2023-09-26 00:15:55.861</td>\n    </tr>\n    <tr>\n      <th>663</th>\n      <td>911</td>\n      <td>201664</td>\n      <td>Токсичные бинарники</td>\n      <td>Обнаружена активность \"Токсичные бинарники\" с ...</td>\n      <td>Закрепление</td>\n      <td>3</td>\n      <td>10.0</td>\n      <td>['43360']</td>\n      <td>['1024', '1023']</td>\n      <td>2023-10-05 00:11:41.458</td>\n      <td>2023-10-05 00:46:41.458</td>\n    </tr>\n    <tr>\n      <th>16444</th>\n      <td>925</td>\n      <td>776621</td>\n      <td>Маскировка</td>\n      <td>Обнаружена активность \"Маскировка\" с уязвимост...</td>\n      <td>Избежание обнаружения</td>\n      <td>95</td>\n      <td>10.0</td>\n      <td>['15358']</td>\n      <td>['1024', '1015']</td>\n      <td>2023-09-18 00:11:50.136</td>\n      <td>2023-09-18 01:08:50.136</td>\n    </tr>\n  </tbody>\n</table>\n</div>"
     },
     "execution_count": 108,
     "metadata": {},
     "output_type": "execute_result"
    }
   ],
   "source": [
    "df.sort_values(by=\"crit_rate\", ascending=False).head()"
   ],
   "metadata": {
    "collapsed": false,
    "ExecuteTime": {
     "end_time": "2023-12-17T09:57:28.419052200Z",
     "start_time": "2023-12-17T09:57:28.326195800Z"
    }
   },
   "id": "56b4913e6334fc0d"
  },
  {
   "cell_type": "markdown",
   "source": [
    "# Задание 2"
   ],
   "metadata": {
    "collapsed": false
   },
   "id": "a5dd1a09c1658183"
  },
  {
   "cell_type": "code",
   "execution_count": 109,
   "outputs": [
    {
     "data": {
      "text/plain": "                                      SYTKI\nname                           SYTKI       \nPass-the-Hash                  night    973\nPass-the-Ticket                night    961\nRDP                            night    893\nSSH                            night    922\nWeb-инъекции                   night    894\nWinRM                          night    966\nДобавление учетной записи      night    911\nДоступ к файлам                night   2388\nЗапуск вредоносного ПО         night    877\nЗлоупотребление службами       night    948\nЗлоупотребление токенами       night    948\nИзменение планировщика заданий night    948\nИнъекция кода                  night    986\nМанипуляции с Kerberos         night    936\nМаскировка                     night   2261\nПубличный доступ               night    890\nСбор данных                    night   2272\nТоксичные бинарники            night    956\nУдаление учетных данных        night   2419\nУправление учетными данными    night    967\nФишинг                         night    866\nЭксплуатация служб             night    928\nЭксплуатация уязвимостей       night    935\nЭксплуатация уязвимостей ОС    night    955",
      "text/html": "<div>\n<style scoped>\n    .dataframe tbody tr th:only-of-type {\n        vertical-align: middle;\n    }\n\n    .dataframe tbody tr th {\n        vertical-align: top;\n    }\n\n    .dataframe thead th {\n        text-align: right;\n    }\n</style>\n<table border=\"1\" class=\"dataframe\">\n  <thead>\n    <tr style=\"text-align: right;\">\n      <th></th>\n      <th></th>\n      <th>SYTKI</th>\n    </tr>\n    <tr>\n      <th>name</th>\n      <th>SYTKI</th>\n      <th></th>\n    </tr>\n  </thead>\n  <tbody>\n    <tr>\n      <th>Pass-the-Hash</th>\n      <th>night</th>\n      <td>973</td>\n    </tr>\n    <tr>\n      <th>Pass-the-Ticket</th>\n      <th>night</th>\n      <td>961</td>\n    </tr>\n    <tr>\n      <th>RDP</th>\n      <th>night</th>\n      <td>893</td>\n    </tr>\n    <tr>\n      <th>SSH</th>\n      <th>night</th>\n      <td>922</td>\n    </tr>\n    <tr>\n      <th>Web-инъекции</th>\n      <th>night</th>\n      <td>894</td>\n    </tr>\n    <tr>\n      <th>WinRM</th>\n      <th>night</th>\n      <td>966</td>\n    </tr>\n    <tr>\n      <th>Добавление учетной записи</th>\n      <th>night</th>\n      <td>911</td>\n    </tr>\n    <tr>\n      <th>Доступ к файлам</th>\n      <th>night</th>\n      <td>2388</td>\n    </tr>\n    <tr>\n      <th>Запуск вредоносного ПО</th>\n      <th>night</th>\n      <td>877</td>\n    </tr>\n    <tr>\n      <th>Злоупотребление службами</th>\n      <th>night</th>\n      <td>948</td>\n    </tr>\n    <tr>\n      <th>Злоупотребление токенами</th>\n      <th>night</th>\n      <td>948</td>\n    </tr>\n    <tr>\n      <th>Изменение планировщика заданий</th>\n      <th>night</th>\n      <td>948</td>\n    </tr>\n    <tr>\n      <th>Инъекция кода</th>\n      <th>night</th>\n      <td>986</td>\n    </tr>\n    <tr>\n      <th>Манипуляции с Kerberos</th>\n      <th>night</th>\n      <td>936</td>\n    </tr>\n    <tr>\n      <th>Маскировка</th>\n      <th>night</th>\n      <td>2261</td>\n    </tr>\n    <tr>\n      <th>Публичный доступ</th>\n      <th>night</th>\n      <td>890</td>\n    </tr>\n    <tr>\n      <th>Сбор данных</th>\n      <th>night</th>\n      <td>2272</td>\n    </tr>\n    <tr>\n      <th>Токсичные бинарники</th>\n      <th>night</th>\n      <td>956</td>\n    </tr>\n    <tr>\n      <th>Удаление учетных данных</th>\n      <th>night</th>\n      <td>2419</td>\n    </tr>\n    <tr>\n      <th>Управление учетными данными</th>\n      <th>night</th>\n      <td>967</td>\n    </tr>\n    <tr>\n      <th>Фишинг</th>\n      <th>night</th>\n      <td>866</td>\n    </tr>\n    <tr>\n      <th>Эксплуатация служб</th>\n      <th>night</th>\n      <td>928</td>\n    </tr>\n    <tr>\n      <th>Эксплуатация уязвимостей</th>\n      <th>night</th>\n      <td>935</td>\n    </tr>\n    <tr>\n      <th>Эксплуатация уязвимостей ОС</th>\n      <th>night</th>\n      <td>955</td>\n    </tr>\n  </tbody>\n</table>\n</div>"
     },
     "execution_count": 109,
     "metadata": {},
     "output_type": "execute_result"
    }
   ],
   "source": [
    "df['SYTKI'] = pd.cut(pd.to_datetime(df.start_time).dt.hour, # бининг по началу времени(часа в фрейме)\n",
    "                         bins = [0, 6, 12, 18, 24],    # значения интервалов\n",
    "                         labels = ['night', 'morning', 'afternoon', 'evening'],  #названия интервалов\n",
    "                         right = False,  #исключения самого правого значения\n",
    "                         )\n",
    "df.groupby(['name', 'SYTKI'], observed=True ).agg({'SYTKI': 'count'})"
   ],
   "metadata": {
    "collapsed": false,
    "ExecuteTime": {
     "end_time": "2023-12-17T09:57:28.543842200Z",
     "start_time": "2023-12-17T09:57:28.369501800Z"
    }
   },
   "id": "4e4785e31f0a61f6"
  },
  {
   "cell_type": "code",
   "execution_count": 110,
   "outputs": [
    {
     "data": {
      "text/plain": "                                                 events_count  crit_rate\nasset_os                                                                \n{'Cisco IOS', 'Red Hat Enterprise 8'}               32.000000   5.420000\n{'Cisco IOS'}                                       49.000000   5.313000\n{'Red Hat Enterprise 8'}                            57.352941   4.232353\n{'Ubuntu 20.04', 'Red Hat Enterprise 8'}            84.000000   6.410000\n{'Ubuntu 20.04'}                                    50.173913   5.860870\n{'Windows 10 Pro', 'Cisco IOS'}                     19.500000   3.040000\n{'Windows 10 Pro', 'Ubuntu 20.04'}                  48.000000   5.095000\n{'Windows 10 Pro'}                                  46.941176   3.770588\n{'Windows Server 2022', 'Cisco IOS'}                64.000000   8.810000\n{'Windows Server 2022', 'Red Hat Enterprise 8'}     96.000000   5.250000\n{'Windows Server 2022', 'Ubuntu 20.04'}             65.666667   5.583333\n{'Windows Server 2022'}                             50.800000   4.872000",
      "text/html": "<div>\n<style scoped>\n    .dataframe tbody tr th:only-of-type {\n        vertical-align: middle;\n    }\n\n    .dataframe tbody tr th {\n        vertical-align: top;\n    }\n\n    .dataframe thead th {\n        text-align: right;\n    }\n</style>\n<table border=\"1\" class=\"dataframe\">\n  <thead>\n    <tr style=\"text-align: right;\">\n      <th></th>\n      <th>events_count</th>\n      <th>crit_rate</th>\n    </tr>\n    <tr>\n      <th>asset_os</th>\n      <th></th>\n      <th></th>\n    </tr>\n  </thead>\n  <tbody>\n    <tr>\n      <th>{'Cisco IOS', 'Red Hat Enterprise 8'}</th>\n      <td>32.000000</td>\n      <td>5.420000</td>\n    </tr>\n    <tr>\n      <th>{'Cisco IOS'}</th>\n      <td>49.000000</td>\n      <td>5.313000</td>\n    </tr>\n    <tr>\n      <th>{'Red Hat Enterprise 8'}</th>\n      <td>57.352941</td>\n      <td>4.232353</td>\n    </tr>\n    <tr>\n      <th>{'Ubuntu 20.04', 'Red Hat Enterprise 8'}</th>\n      <td>84.000000</td>\n      <td>6.410000</td>\n    </tr>\n    <tr>\n      <th>{'Ubuntu 20.04'}</th>\n      <td>50.173913</td>\n      <td>5.860870</td>\n    </tr>\n    <tr>\n      <th>{'Windows 10 Pro', 'Cisco IOS'}</th>\n      <td>19.500000</td>\n      <td>3.040000</td>\n    </tr>\n    <tr>\n      <th>{'Windows 10 Pro', 'Ubuntu 20.04'}</th>\n      <td>48.000000</td>\n      <td>5.095000</td>\n    </tr>\n    <tr>\n      <th>{'Windows 10 Pro'}</th>\n      <td>46.941176</td>\n      <td>3.770588</td>\n    </tr>\n    <tr>\n      <th>{'Windows Server 2022', 'Cisco IOS'}</th>\n      <td>64.000000</td>\n      <td>8.810000</td>\n    </tr>\n    <tr>\n      <th>{'Windows Server 2022', 'Red Hat Enterprise 8'}</th>\n      <td>96.000000</td>\n      <td>5.250000</td>\n    </tr>\n    <tr>\n      <th>{'Windows Server 2022', 'Ubuntu 20.04'}</th>\n      <td>65.666667</td>\n      <td>5.583333</td>\n    </tr>\n    <tr>\n      <th>{'Windows Server 2022'}</th>\n      <td>50.800000</td>\n      <td>4.872000</td>\n    </tr>\n  </tbody>\n</table>\n</div>"
     },
     "execution_count": 110,
     "metadata": {},
     "output_type": "execute_result"
    }
   ],
   "source": [
    "# Задание 3\n",
    "import requests\n",
    "API_URL = 'https://d5d9e0b83lurt901t9ue.apigw.yandexcloud.net'\n",
    "def get_assets_os(assets_id):\n",
    "      assets_os = set()\n",
    "      for asset_id in assets_id.split(','):\n",
    "       assets_os.add(requests.get(f'{API_URL}/get-asset-by-id', params={'asset-id': asset_id}).json().get('result', {}).get('os'))\n",
    "      return str(assets_os)\n",
    "\n",
    "test_df = df.head(100).copy()\n",
    "test_df.loc[:, 'assets_id'] = test_df['assets_id'].apply(lambda x: str(x).replace(\"[\", '').replace(\"]\", '').replace(\"'\", ''))\n",
    "test_df.loc[:, 'asset_os'] = test_df['assets_id'].apply(get_assets_os)\n",
    "result = test_df.groupby('asset_os').agg({'events_count': 'mean', 'crit_rate': 'mean'})\n",
    "result"
   ],
   "metadata": {
    "collapsed": false,
    "ExecuteTime": {
     "end_time": "2023-12-17T09:58:49.670354Z",
     "start_time": "2023-12-17T09:57:28.500867800Z"
    }
   },
   "id": "3926c9c6efe60337"
  },
  {
   "cell_type": "markdown",
   "source": [
    "# Задание 4"
   ],
   "metadata": {
    "collapsed": false
   },
   "id": "bf9350795e986b30"
  },
  {
   "cell_type": "code",
   "execution_count": 111,
   "outputs": [
    {
     "data": {
      "text/plain": "       team      id                      name  \\\n12231   921  792767           Доступ к файлам   \n16523   925  906582  Эксплуатация уязвимостей   \n24345   942  134748               Сбор данных   \n9246    993  800786                    Фишинг   \n15781   924  408052               Сбор данных   \n...     ...     ...                       ...   \n11365   995  965461               Сбор данных   \n19575   932  419803              Web-инъекции   \n21554   934  436919               Сбор данных   \n25742   943  620320                Маскировка   \n25467   943  407138                Маскировка   \n\n                                             description  \\\n12231  Обнаружена активность \"Доступ к файлам\" с уязв...   \n16523  Обнаружена активность \"Эксплуатация уязвимосте...   \n24345  Обнаружена активность \"Сбор данных\" с уязвимос...   \n9246   Обнаружена активность \"Фишинг\" с уязвимостями ...   \n15781  Обнаружена активность \"Сбор данных\" с уязвимос...   \n...                                                  ...   \n11365  Обнаружена активность \"Сбор данных\" с уязвимос...   \n19575  Обнаружена активность \"Web-инъекции\" с уязвимо...   \n21554  Обнаружена активность \"Сбор данных\" с уязвимос...   \n25742  Обнаружена активность \"Маскировка\" с уязвимост...   \n25467  Обнаружена активность \"Маскировка\" с уязвимост...   \n\n                                 type  events_count  crit_rate  assets_id  \\\n12231  Действия на целевом устройстве             1       8.74  ['58263']   \n16523                   Проникновение             1       9.97  ['89929']   \n24345  Действия на целевом устройстве             1       6.13  ['89589']   \n9246                    Проникновение             1       7.59  ['90851']   \n15781  Действия на целевом устройстве             1       4.94  ['31350']   \n...                               ...           ...        ...        ...   \n11365  Действия на целевом устройстве            98       7.92  ['67023']   \n19575                   Проникновение            99       3.52  ['92003']   \n21554  Действия на целевом устройстве            99       9.64  ['39459']   \n25742           Избежание обнаружения           100       5.83  ['20638']   \n25467           Избежание обнаружения           100       5.62  ['90603']   \n\n                     vulnerabilities_id              start_time  \\\n12231  ['1007', '1018', '1011', '1021'] 2023-09-27 00:11:47.947   \n16523                          ['1004'] 2023-09-25 00:11:50.187   \n24345  ['1010', '1014', '1012', '1001'] 2023-09-13 00:11:54.399   \n9246           ['1011', '1017', '1004'] 2023-09-13 00:11:46.049   \n15781                  ['1013', '1007'] 2023-09-17 00:11:49.773   \n...                                 ...                     ...   \n11365                          ['1001'] 2023-10-03 00:11:47.503   \n19575                  ['1019', '1015'] 2023-10-05 00:11:51.727   \n21554                          ['1019'] 2023-10-01 00:11:52.722   \n25742          ['1021', '1016', '1023'] 2023-09-20 00:11:55.172   \n25467                          ['1021'] 2023-09-30 00:11:55.017   \n\n                     end_time  SYTKI  relation  \n12231 2023-09-27 01:11:47.947  night  0.000278  \n16523 2023-09-25 01:11:50.187  night  0.000278  \n24345 2023-09-13 01:11:54.399  night  0.000278  \n9246  2023-09-13 01:11:46.049  night  0.000278  \n15781 2023-09-17 01:10:49.773  night  0.000282  \n...                       ...    ...       ...  \n11365 2023-10-03 00:12:47.503  night  1.633333  \n19575 2023-10-05 00:12:51.727  night  1.650000  \n21554 2023-10-01 00:12:52.722  night  1.650000  \n25742 2023-09-20 00:12:55.172  night  1.666667  \n25467 2023-09-30 00:12:55.017  night  1.666667  \n\n[19879 rows x 13 columns]",
      "text/html": "<div>\n<style scoped>\n    .dataframe tbody tr th:only-of-type {\n        vertical-align: middle;\n    }\n\n    .dataframe tbody tr th {\n        vertical-align: top;\n    }\n\n    .dataframe thead th {\n        text-align: right;\n    }\n</style>\n<table border=\"1\" class=\"dataframe\">\n  <thead>\n    <tr style=\"text-align: right;\">\n      <th></th>\n      <th>team</th>\n      <th>id</th>\n      <th>name</th>\n      <th>description</th>\n      <th>type</th>\n      <th>events_count</th>\n      <th>crit_rate</th>\n      <th>assets_id</th>\n      <th>vulnerabilities_id</th>\n      <th>start_time</th>\n      <th>end_time</th>\n      <th>SYTKI</th>\n      <th>relation</th>\n    </tr>\n  </thead>\n  <tbody>\n    <tr>\n      <th>12231</th>\n      <td>921</td>\n      <td>792767</td>\n      <td>Доступ к файлам</td>\n      <td>Обнаружена активность \"Доступ к файлам\" с уязв...</td>\n      <td>Действия на целевом устройстве</td>\n      <td>1</td>\n      <td>8.74</td>\n      <td>['58263']</td>\n      <td>['1007', '1018', '1011', '1021']</td>\n      <td>2023-09-27 00:11:47.947</td>\n      <td>2023-09-27 01:11:47.947</td>\n      <td>night</td>\n      <td>0.000278</td>\n    </tr>\n    <tr>\n      <th>16523</th>\n      <td>925</td>\n      <td>906582</td>\n      <td>Эксплуатация уязвимостей</td>\n      <td>Обнаружена активность \"Эксплуатация уязвимосте...</td>\n      <td>Проникновение</td>\n      <td>1</td>\n      <td>9.97</td>\n      <td>['89929']</td>\n      <td>['1004']</td>\n      <td>2023-09-25 00:11:50.187</td>\n      <td>2023-09-25 01:11:50.187</td>\n      <td>night</td>\n      <td>0.000278</td>\n    </tr>\n    <tr>\n      <th>24345</th>\n      <td>942</td>\n      <td>134748</td>\n      <td>Сбор данных</td>\n      <td>Обнаружена активность \"Сбор данных\" с уязвимос...</td>\n      <td>Действия на целевом устройстве</td>\n      <td>1</td>\n      <td>6.13</td>\n      <td>['89589']</td>\n      <td>['1010', '1014', '1012', '1001']</td>\n      <td>2023-09-13 00:11:54.399</td>\n      <td>2023-09-13 01:11:54.399</td>\n      <td>night</td>\n      <td>0.000278</td>\n    </tr>\n    <tr>\n      <th>9246</th>\n      <td>993</td>\n      <td>800786</td>\n      <td>Фишинг</td>\n      <td>Обнаружена активность \"Фишинг\" с уязвимостями ...</td>\n      <td>Проникновение</td>\n      <td>1</td>\n      <td>7.59</td>\n      <td>['90851']</td>\n      <td>['1011', '1017', '1004']</td>\n      <td>2023-09-13 00:11:46.049</td>\n      <td>2023-09-13 01:11:46.049</td>\n      <td>night</td>\n      <td>0.000278</td>\n    </tr>\n    <tr>\n      <th>15781</th>\n      <td>924</td>\n      <td>408052</td>\n      <td>Сбор данных</td>\n      <td>Обнаружена активность \"Сбор данных\" с уязвимос...</td>\n      <td>Действия на целевом устройстве</td>\n      <td>1</td>\n      <td>4.94</td>\n      <td>['31350']</td>\n      <td>['1013', '1007']</td>\n      <td>2023-09-17 00:11:49.773</td>\n      <td>2023-09-17 01:10:49.773</td>\n      <td>night</td>\n      <td>0.000282</td>\n    </tr>\n    <tr>\n      <th>...</th>\n      <td>...</td>\n      <td>...</td>\n      <td>...</td>\n      <td>...</td>\n      <td>...</td>\n      <td>...</td>\n      <td>...</td>\n      <td>...</td>\n      <td>...</td>\n      <td>...</td>\n      <td>...</td>\n      <td>...</td>\n      <td>...</td>\n    </tr>\n    <tr>\n      <th>11365</th>\n      <td>995</td>\n      <td>965461</td>\n      <td>Сбор данных</td>\n      <td>Обнаружена активность \"Сбор данных\" с уязвимос...</td>\n      <td>Действия на целевом устройстве</td>\n      <td>98</td>\n      <td>7.92</td>\n      <td>['67023']</td>\n      <td>['1001']</td>\n      <td>2023-10-03 00:11:47.503</td>\n      <td>2023-10-03 00:12:47.503</td>\n      <td>night</td>\n      <td>1.633333</td>\n    </tr>\n    <tr>\n      <th>19575</th>\n      <td>932</td>\n      <td>419803</td>\n      <td>Web-инъекции</td>\n      <td>Обнаружена активность \"Web-инъекции\" с уязвимо...</td>\n      <td>Проникновение</td>\n      <td>99</td>\n      <td>3.52</td>\n      <td>['92003']</td>\n      <td>['1019', '1015']</td>\n      <td>2023-10-05 00:11:51.727</td>\n      <td>2023-10-05 00:12:51.727</td>\n      <td>night</td>\n      <td>1.650000</td>\n    </tr>\n    <tr>\n      <th>21554</th>\n      <td>934</td>\n      <td>436919</td>\n      <td>Сбор данных</td>\n      <td>Обнаружена активность \"Сбор данных\" с уязвимос...</td>\n      <td>Действия на целевом устройстве</td>\n      <td>99</td>\n      <td>9.64</td>\n      <td>['39459']</td>\n      <td>['1019']</td>\n      <td>2023-10-01 00:11:52.722</td>\n      <td>2023-10-01 00:12:52.722</td>\n      <td>night</td>\n      <td>1.650000</td>\n    </tr>\n    <tr>\n      <th>25742</th>\n      <td>943</td>\n      <td>620320</td>\n      <td>Маскировка</td>\n      <td>Обнаружена активность \"Маскировка\" с уязвимост...</td>\n      <td>Избежание обнаружения</td>\n      <td>100</td>\n      <td>5.83</td>\n      <td>['20638']</td>\n      <td>['1021', '1016', '1023']</td>\n      <td>2023-09-20 00:11:55.172</td>\n      <td>2023-09-20 00:12:55.172</td>\n      <td>night</td>\n      <td>1.666667</td>\n    </tr>\n    <tr>\n      <th>25467</th>\n      <td>943</td>\n      <td>407138</td>\n      <td>Маскировка</td>\n      <td>Обнаружена активность \"Маскировка\" с уязвимост...</td>\n      <td>Избежание обнаружения</td>\n      <td>100</td>\n      <td>5.62</td>\n      <td>['90603']</td>\n      <td>['1021']</td>\n      <td>2023-09-30 00:11:55.017</td>\n      <td>2023-09-30 00:12:55.017</td>\n      <td>night</td>\n      <td>1.666667</td>\n    </tr>\n  </tbody>\n</table>\n<p>19879 rows × 13 columns</p>\n</div>"
     },
     "execution_count": 111,
     "metadata": {},
     "output_type": "execute_result"
    }
   ],
   "source": [
    "df['start_time'] = pd.to_datetime(df.start_time)\n",
    "df['end_time'] = pd.to_datetime(df.end_time)\n",
    "df_copy = df.copy()\n",
    "df_copy['relation'] = df.apply(lambda x: x['events_count'] / (\n",
    "   (x['end_time'] - x['start_time']).total_seconds() # считает отношение кол-во среднего кол-во инцидентов к времени инциденты\n",
    "), axis=1)\n",
    "df_copy\n",
    "\n",
    "df_copy.sort_values('relation', inplace=True) # сортирует отношения\n",
    "median = df.head(5)['crit_rate'].median() # выводит медиану первых пяти\n",
    "\n",
    "df_copy.loc[df.crit_rate > median] # оставляем только те, что выше медианы"
   ],
   "metadata": {
    "collapsed": false,
    "ExecuteTime": {
     "end_time": "2023-12-17T09:58:50.264014100Z",
     "start_time": "2023-12-17T09:58:49.665358Z"
    }
   },
   "id": "a97fc3426153198e"
  },
  {
   "cell_type": "markdown",
   "source": [
    "# Задание 5\n"
   ],
   "metadata": {
    "collapsed": false
   },
   "id": "1460041b712665be"
  },
  {
   "cell_type": "code",
   "execution_count": 112,
   "outputs": [
    {
     "data": {
      "text/plain": "    team      id                         name  \\\n0    911  698756                Инъекция кода   \n1    911  468195          Токсичные бинарники   \n2    911  231830              Pass-the-Ticket   \n3    911  768568  Управление учетными данными   \n4    911  211018              Доступ к файлам   \n..   ...     ...                          ...   \n95   911  234822             Публичный доступ   \n96   911  115565     Злоупотребление службами   \n97   911  119287  Эксплуатация уязвимостей ОС   \n98   911  147757      Удаление учетных данных   \n99   911  451752              Доступ к файлам   \n\n                                          description  \\\n0   Обнаружена активность \"Инъекция кода\" с уязвим...   \n1   Обнаружена активность \"Токсичные бинарники\" с ...   \n2   Обнаружена активность \"Pass-the-Ticket\" с уязв...   \n3   Обнаружена активность \"Управление учетными дан...   \n4   Обнаружена активность \"Доступ к файлам\" с уязв...   \n..                                                ...   \n95  Обнаружена активность \"Публичный доступ\" с уяз...   \n96  Обнаружена активность \"Злоупотребление службам...   \n97  Обнаружена активность \"Эксплуатация уязвимосте...   \n98  Обнаружена активность \"Удаление учетных данных...   \n99  Обнаружена активность \"Доступ к файлам\" с уязв...   \n\n                              type  events_count  crit_rate     assets_id  \\\n0                    Проникновение            59       2.99         81036   \n1                      Закрепление            89       1.47         81036   \n2             Боковое передвижение            22       5.74  81036, 45060   \n3                   Повышение прав            72       7.56         45060   \n4   Действия на целевом устройстве             7       0.51         45060   \n..                             ...           ...        ...           ...   \n95                   Проникновение            23       0.51         13934   \n96                     Закрепление            39       1.50         73647   \n97                  Повышение прав            91       4.91         41093   \n98           Избежание обнаружения            82       5.84         45941   \n99  Действия на целевом устройстве            90       2.89         67010   \n\n                  vulnerabilities_id              start_time  \\\n0   ['1009', '1011', '1014', '1010'] 2023-10-01 00:11:41.162   \n1   ['1019', '1005', '1011', '1020'] 2023-10-01 01:03:41.162   \n2                   ['1004', '1024'] 2023-10-01 01:29:41.162   \n3                           ['1019'] 2023-10-01 02:34:41.162   \n4           ['1013', '1004', '1016'] 2023-10-01 03:40:41.162   \n..                               ...                     ...   \n95                          ['1000'] 2023-10-10 00:11:41.199   \n96                  ['1000', '1008'] 2023-09-19 00:11:41.199   \n97          ['1017', '1008', '1018'] 2023-10-11 00:11:41.199   \n98                  ['1019', '1022'] 2023-10-07 00:11:41.200   \n99                  ['1015', '1013'] 2023-09-18 00:11:41.200   \n\n                  end_time  SYTKI  avg_access_level  \n0  2023-10-01 00:40:41.162  night             0.500  \n1  2023-10-01 01:18:41.162  night             0.500  \n2  2023-10-01 02:07:41.162  night             0.625  \n3  2023-10-01 03:33:41.162  night             0.750  \n4  2023-10-01 04:32:41.162  night             0.750  \n..                     ...    ...               ...  \n95 2023-10-10 00:14:41.199  night             1.000  \n96 2023-09-19 00:19:41.199  night             0.750  \n97 2023-10-11 01:03:41.199  night             1.000  \n98 2023-10-07 00:17:41.200  night             0.500  \n99 2023-09-18 00:44:41.200  night             0.200  \n\n[100 rows x 13 columns]",
      "text/html": "<div>\n<style scoped>\n    .dataframe tbody tr th:only-of-type {\n        vertical-align: middle;\n    }\n\n    .dataframe tbody tr th {\n        vertical-align: top;\n    }\n\n    .dataframe thead th {\n        text-align: right;\n    }\n</style>\n<table border=\"1\" class=\"dataframe\">\n  <thead>\n    <tr style=\"text-align: right;\">\n      <th></th>\n      <th>team</th>\n      <th>id</th>\n      <th>name</th>\n      <th>description</th>\n      <th>type</th>\n      <th>events_count</th>\n      <th>crit_rate</th>\n      <th>assets_id</th>\n      <th>vulnerabilities_id</th>\n      <th>start_time</th>\n      <th>end_time</th>\n      <th>SYTKI</th>\n      <th>avg_access_level</th>\n    </tr>\n  </thead>\n  <tbody>\n    <tr>\n      <th>0</th>\n      <td>911</td>\n      <td>698756</td>\n      <td>Инъекция кода</td>\n      <td>Обнаружена активность \"Инъекция кода\" с уязвим...</td>\n      <td>Проникновение</td>\n      <td>59</td>\n      <td>2.99</td>\n      <td>81036</td>\n      <td>['1009', '1011', '1014', '1010']</td>\n      <td>2023-10-01 00:11:41.162</td>\n      <td>2023-10-01 00:40:41.162</td>\n      <td>night</td>\n      <td>0.500</td>\n    </tr>\n    <tr>\n      <th>1</th>\n      <td>911</td>\n      <td>468195</td>\n      <td>Токсичные бинарники</td>\n      <td>Обнаружена активность \"Токсичные бинарники\" с ...</td>\n      <td>Закрепление</td>\n      <td>89</td>\n      <td>1.47</td>\n      <td>81036</td>\n      <td>['1019', '1005', '1011', '1020']</td>\n      <td>2023-10-01 01:03:41.162</td>\n      <td>2023-10-01 01:18:41.162</td>\n      <td>night</td>\n      <td>0.500</td>\n    </tr>\n    <tr>\n      <th>2</th>\n      <td>911</td>\n      <td>231830</td>\n      <td>Pass-the-Ticket</td>\n      <td>Обнаружена активность \"Pass-the-Ticket\" с уязв...</td>\n      <td>Боковое передвижение</td>\n      <td>22</td>\n      <td>5.74</td>\n      <td>81036, 45060</td>\n      <td>['1004', '1024']</td>\n      <td>2023-10-01 01:29:41.162</td>\n      <td>2023-10-01 02:07:41.162</td>\n      <td>night</td>\n      <td>0.625</td>\n    </tr>\n    <tr>\n      <th>3</th>\n      <td>911</td>\n      <td>768568</td>\n      <td>Управление учетными данными</td>\n      <td>Обнаружена активность \"Управление учетными дан...</td>\n      <td>Повышение прав</td>\n      <td>72</td>\n      <td>7.56</td>\n      <td>45060</td>\n      <td>['1019']</td>\n      <td>2023-10-01 02:34:41.162</td>\n      <td>2023-10-01 03:33:41.162</td>\n      <td>night</td>\n      <td>0.750</td>\n    </tr>\n    <tr>\n      <th>4</th>\n      <td>911</td>\n      <td>211018</td>\n      <td>Доступ к файлам</td>\n      <td>Обнаружена активность \"Доступ к файлам\" с уязв...</td>\n      <td>Действия на целевом устройстве</td>\n      <td>7</td>\n      <td>0.51</td>\n      <td>45060</td>\n      <td>['1013', '1004', '1016']</td>\n      <td>2023-10-01 03:40:41.162</td>\n      <td>2023-10-01 04:32:41.162</td>\n      <td>night</td>\n      <td>0.750</td>\n    </tr>\n    <tr>\n      <th>...</th>\n      <td>...</td>\n      <td>...</td>\n      <td>...</td>\n      <td>...</td>\n      <td>...</td>\n      <td>...</td>\n      <td>...</td>\n      <td>...</td>\n      <td>...</td>\n      <td>...</td>\n      <td>...</td>\n      <td>...</td>\n      <td>...</td>\n    </tr>\n    <tr>\n      <th>95</th>\n      <td>911</td>\n      <td>234822</td>\n      <td>Публичный доступ</td>\n      <td>Обнаружена активность \"Публичный доступ\" с уяз...</td>\n      <td>Проникновение</td>\n      <td>23</td>\n      <td>0.51</td>\n      <td>13934</td>\n      <td>['1000']</td>\n      <td>2023-10-10 00:11:41.199</td>\n      <td>2023-10-10 00:14:41.199</td>\n      <td>night</td>\n      <td>1.000</td>\n    </tr>\n    <tr>\n      <th>96</th>\n      <td>911</td>\n      <td>115565</td>\n      <td>Злоупотребление службами</td>\n      <td>Обнаружена активность \"Злоупотребление службам...</td>\n      <td>Закрепление</td>\n      <td>39</td>\n      <td>1.50</td>\n      <td>73647</td>\n      <td>['1000', '1008']</td>\n      <td>2023-09-19 00:11:41.199</td>\n      <td>2023-09-19 00:19:41.199</td>\n      <td>night</td>\n      <td>0.750</td>\n    </tr>\n    <tr>\n      <th>97</th>\n      <td>911</td>\n      <td>119287</td>\n      <td>Эксплуатация уязвимостей ОС</td>\n      <td>Обнаружена активность \"Эксплуатация уязвимосте...</td>\n      <td>Повышение прав</td>\n      <td>91</td>\n      <td>4.91</td>\n      <td>41093</td>\n      <td>['1017', '1008', '1018']</td>\n      <td>2023-10-11 00:11:41.199</td>\n      <td>2023-10-11 01:03:41.199</td>\n      <td>night</td>\n      <td>1.000</td>\n    </tr>\n    <tr>\n      <th>98</th>\n      <td>911</td>\n      <td>147757</td>\n      <td>Удаление учетных данных</td>\n      <td>Обнаружена активность \"Удаление учетных данных...</td>\n      <td>Избежание обнаружения</td>\n      <td>82</td>\n      <td>5.84</td>\n      <td>45941</td>\n      <td>['1019', '1022']</td>\n      <td>2023-10-07 00:11:41.200</td>\n      <td>2023-10-07 00:17:41.200</td>\n      <td>night</td>\n      <td>0.500</td>\n    </tr>\n    <tr>\n      <th>99</th>\n      <td>911</td>\n      <td>451752</td>\n      <td>Доступ к файлам</td>\n      <td>Обнаружена активность \"Доступ к файлам\" с уязв...</td>\n      <td>Действия на целевом устройстве</td>\n      <td>90</td>\n      <td>2.89</td>\n      <td>67010</td>\n      <td>['1015', '1013']</td>\n      <td>2023-09-18 00:11:41.200</td>\n      <td>2023-09-18 00:44:41.200</td>\n      <td>night</td>\n      <td>0.200</td>\n    </tr>\n  </tbody>\n</table>\n<p>100 rows × 13 columns</p>\n</div>"
     },
     "execution_count": 112,
     "metadata": {},
     "output_type": "execute_result"
    }
   ],
   "source": [
    "user_access_levels = {\n",
    "    \"admin\": 1,\n",
    "    \"user123\": 0.4,\n",
    "    \"dbadmin\": 0.8,\n",
    "    \"guest\": 0.2,\n",
    "    \"developer\": 0.7,\n",
    "    \"tester\": 0.75,\n",
    "    \"analyst\": 0.6,\n",
    "    \"operator\": 0.5,\n",
    "    \"manager\": 0.65,\n",
    "    \"consultant\": 0.55,\n",
    "}\n",
    "\n",
    "def get_level_access_by_asset_id(assets_id):\n",
    "    users_levels = []\n",
    "    for asset_id in assets_id.split(','):\n",
    "        user = requests.get(f'{API_URL}/get-asset-by-id', params={'asset-id': asset_id}).json().get('result', {}).get('account_name') # получаем названием аккаунта\n",
    "        users_levels.append(user_access_levels[user]) # заполняем список значениями\n",
    "    return sum(users_levels) / len(users_levels) # возвращаем средние значение\n",
    "\n",
    "# to reduce requests count\n",
    "test_df = df.head(100).copy()\n",
    "test_df.loc[:, 'assets_id'] = test_df['assets_id'].apply(lambda x: str(x).replace(\"[\", '').replace(\"]\", '').replace(\"'\", ''))\n",
    "test_df.loc[:, 'avg_access_level'] = test_df['assets_id'].apply(get_level_access_by_asset_id) # создаем столбец со средними значениями\n",
    "\n",
    "test_df"
   ],
   "metadata": {
    "collapsed": false,
    "ExecuteTime": {
     "end_time": "2023-12-17T10:00:12.591290Z",
     "start_time": "2023-12-17T09:58:50.264014100Z"
    }
   },
   "id": "fc41cbe740457b4a"
  },
  {
   "cell_type": "code",
   "execution_count": 113,
   "outputs": [
    {
     "data": {
      "text/plain": "                                              events_count  crit_rate  \\\nname                                                                    \nPass-the-Hash               events_count          1.000000  -0.049613   \n                            crit_rate            -0.049613   1.000000   \n                            avg_access_level      0.833049   0.090967   \nPass-the-Ticket             events_count          1.000000  -1.000000   \n                            crit_rate            -1.000000   1.000000   \n...                                                    ...        ...   \nЭксплуатация уязвимостей    crit_rate                  NaN        NaN   \n                            avg_access_level           NaN        NaN   \nЭксплуатация уязвимостей ОС events_count          1.000000  -0.014957   \n                            crit_rate            -0.014957   1.000000   \n                            avg_access_level      0.629861   0.737526   \n\n                                              avg_access_level  \nname                                                            \nPass-the-Hash               events_count              0.833049  \n                            crit_rate                 0.090967  \n                            avg_access_level          1.000000  \nPass-the-Ticket             events_count              1.000000  \n                            crit_rate                -1.000000  \n...                                                        ...  \nЭксплуатация уязвимостей    crit_rate                      NaN  \n                            avg_access_level               NaN  \nЭксплуатация уязвимостей ОС events_count              0.629861  \n                            crit_rate                 0.737526  \n                            avg_access_level          1.000000  \n\n[69 rows x 3 columns]",
      "text/html": "<div>\n<style scoped>\n    .dataframe tbody tr th:only-of-type {\n        vertical-align: middle;\n    }\n\n    .dataframe tbody tr th {\n        vertical-align: top;\n    }\n\n    .dataframe thead th {\n        text-align: right;\n    }\n</style>\n<table border=\"1\" class=\"dataframe\">\n  <thead>\n    <tr style=\"text-align: right;\">\n      <th></th>\n      <th></th>\n      <th>events_count</th>\n      <th>crit_rate</th>\n      <th>avg_access_level</th>\n    </tr>\n    <tr>\n      <th>name</th>\n      <th></th>\n      <th></th>\n      <th></th>\n      <th></th>\n    </tr>\n  </thead>\n  <tbody>\n    <tr>\n      <th rowspan=\"3\" valign=\"top\">Pass-the-Hash</th>\n      <th>events_count</th>\n      <td>1.000000</td>\n      <td>-0.049613</td>\n      <td>0.833049</td>\n    </tr>\n    <tr>\n      <th>crit_rate</th>\n      <td>-0.049613</td>\n      <td>1.000000</td>\n      <td>0.090967</td>\n    </tr>\n    <tr>\n      <th>avg_access_level</th>\n      <td>0.833049</td>\n      <td>0.090967</td>\n      <td>1.000000</td>\n    </tr>\n    <tr>\n      <th rowspan=\"2\" valign=\"top\">Pass-the-Ticket</th>\n      <th>events_count</th>\n      <td>1.000000</td>\n      <td>-1.000000</td>\n      <td>1.000000</td>\n    </tr>\n    <tr>\n      <th>crit_rate</th>\n      <td>-1.000000</td>\n      <td>1.000000</td>\n      <td>-1.000000</td>\n    </tr>\n    <tr>\n      <th>...</th>\n      <th>...</th>\n      <td>...</td>\n      <td>...</td>\n      <td>...</td>\n    </tr>\n    <tr>\n      <th rowspan=\"2\" valign=\"top\">Эксплуатация уязвимостей</th>\n      <th>crit_rate</th>\n      <td>NaN</td>\n      <td>NaN</td>\n      <td>NaN</td>\n    </tr>\n    <tr>\n      <th>avg_access_level</th>\n      <td>NaN</td>\n      <td>NaN</td>\n      <td>NaN</td>\n    </tr>\n    <tr>\n      <th rowspan=\"3\" valign=\"top\">Эксплуатация уязвимостей ОС</th>\n      <th>events_count</th>\n      <td>1.000000</td>\n      <td>-0.014957</td>\n      <td>0.629861</td>\n    </tr>\n    <tr>\n      <th>crit_rate</th>\n      <td>-0.014957</td>\n      <td>1.000000</td>\n      <td>0.737526</td>\n    </tr>\n    <tr>\n      <th>avg_access_level</th>\n      <td>0.629861</td>\n      <td>0.737526</td>\n      <td>1.000000</td>\n    </tr>\n  </tbody>\n</table>\n<p>69 rows × 3 columns</p>\n</div>"
     },
     "execution_count": 113,
     "metadata": {},
     "output_type": "execute_result"
    }
   ],
   "source": [
    "result_df = test_df.groupby('name').apply(lambda group: group[['events_count','crit_rate','avg_access_level']].corr()) # таблица корреляции группировка по типам инцидента\n",
    "result_df"
   ],
   "metadata": {
    "collapsed": false,
    "ExecuteTime": {
     "end_time": "2023-12-17T10:00:12.652122Z",
     "start_time": "2023-12-17T10:00:12.593288700Z"
    }
   },
   "id": "3fe8631fe30adaf1"
  },
  {
   "cell_type": "code",
   "execution_count": 116,
   "outputs": [
    {
     "name": "stdout",
     "output_type": "stream",
     "text": [
      "MultiIndex([('Злоупотребление токенами', 'events_count')],\n",
      "           names=['name', None])\n"
     ]
    }
   ],
   "source": [
    "result_df.drop(result_df[(result_df['avg_access_level'] == -1.0)].index, inplace=True)\n",
    "result_df.drop(result_df[(result_df['avg_access_level'] == 1.0)].index, inplace=True)\n",
    "result_df[(result_df['avg_access_level'].abs() == result_df['avg_access_level'].abs().max())].index"
   ],
   "metadata": {
    "collapsed": false,
    "ExecuteTime": {
     "end_time": "2023-12-17T10:03:07.758685100Z",
     "start_time": "2023-12-17T10:03:07.669495800Z"
    }
   },
   "id": "61b379603b636f4"
  },
  {
   "cell_type": "code",
   "execution_count": 115,
   "outputs": [
    {
     "data": {
      "text/plain": "                                       events_count  crit_rate  \\\nname                                                             \nЗлоупотребление токенами events_count           1.0       -1.0   \n\n                                       avg_access_level  \nname                                                     \nЗлоупотребление токенами events_count              -1.0  ",
      "text/html": "<div>\n<style scoped>\n    .dataframe tbody tr th:only-of-type {\n        vertical-align: middle;\n    }\n\n    .dataframe tbody tr th {\n        vertical-align: top;\n    }\n\n    .dataframe thead th {\n        text-align: right;\n    }\n</style>\n<table border=\"1\" class=\"dataframe\">\n  <thead>\n    <tr style=\"text-align: right;\">\n      <th></th>\n      <th></th>\n      <th>events_count</th>\n      <th>crit_rate</th>\n      <th>avg_access_level</th>\n    </tr>\n    <tr>\n      <th>name</th>\n      <th></th>\n      <th></th>\n      <th></th>\n      <th></th>\n    </tr>\n  </thead>\n  <tbody>\n    <tr>\n      <th>Злоупотребление токенами</th>\n      <th>events_count</th>\n      <td>1.0</td>\n      <td>-1.0</td>\n      <td>-1.0</td>\n    </tr>\n  </tbody>\n</table>\n</div>"
     },
     "execution_count": 115,
     "metadata": {},
     "output_type": "execute_result"
    }
   ],
   "source": [
    "result_df[(result_df['avg_access_level'].abs() == result_df['avg_access_level'].abs().max())]"
   ],
   "metadata": {
    "collapsed": false,
    "ExecuteTime": {
     "end_time": "2023-12-17T10:00:14.025751200Z",
     "start_time": "2023-12-17T10:00:13.908607400Z"
    }
   },
   "id": "7d8fc1fb3a80b531"
  }
 ],
 "metadata": {
  "kernelspec": {
   "display_name": "Python 3",
   "language": "python",
   "name": "python3"
  },
  "language_info": {
   "codemirror_mode": {
    "name": "ipython",
    "version": 2
   },
   "file_extension": ".py",
   "mimetype": "text/x-python",
   "name": "python",
   "nbconvert_exporter": "python",
   "pygments_lexer": "ipython2",
   "version": "2.7.6"
  }
 },
 "nbformat": 4,
 "nbformat_minor": 5
}
