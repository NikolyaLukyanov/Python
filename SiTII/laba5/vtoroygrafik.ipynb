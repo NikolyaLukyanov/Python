{
 "cells": [
  {
   "cell_type": "code",
   "execution_count": 2,
   "id": "f6de87c2-b0d3-4b35-9e5e-335728c32b40",
   "metadata": {
    "ExecuteTime": {
     "end_time": "2023-12-19T08:43:59.497486300Z",
     "start_time": "2023-12-19T08:43:59.364519200Z"
    }
   },
   "outputs": [
    {
     "ename": "ModuleNotFoundError",
     "evalue": "No module named 'networkx'",
     "output_type": "error",
     "traceback": [
      "\u001B[1;31m---------------------------------------------------------------------------\u001B[0m",
      "\u001B[1;31mModuleNotFoundError\u001B[0m                       Traceback (most recent call last)",
      "Cell \u001B[1;32mIn[2], line 17\u001B[0m\n\u001B[0;32m     15\u001B[0m \u001B[38;5;28;01mimport\u001B[39;00m \u001B[38;5;21;01mmatplotlib\u001B[39;00m\u001B[38;5;21;01m.\u001B[39;00m\u001B[38;5;21;01mpyplot\u001B[39;00m \u001B[38;5;28;01mas\u001B[39;00m \u001B[38;5;21;01mplt\u001B[39;00m\n\u001B[0;32m     16\u001B[0m \u001B[38;5;28;01mimport\u001B[39;00m \u001B[38;5;21;01mmatplotlib\u001B[39;00m\u001B[38;5;21;01m.\u001B[39;00m\u001B[38;5;21;01mdates\u001B[39;00m \u001B[38;5;28;01mas\u001B[39;00m \u001B[38;5;21;01mmdates\u001B[39;00m\n\u001B[1;32m---> 17\u001B[0m \u001B[38;5;28;01mimport\u001B[39;00m \u001B[38;5;21;01mnetworkx\u001B[39;00m \u001B[38;5;28;01mas\u001B[39;00m \u001B[38;5;21;01mnx\u001B[39;00m\n\u001B[0;32m     18\u001B[0m \u001B[38;5;28;01mimport\u001B[39;00m \u001B[38;5;21;01mplotly\u001B[39;00m\u001B[38;5;21;01m.\u001B[39;00m\u001B[38;5;21;01mgraph_objects\u001B[39;00m \u001B[38;5;28;01mas\u001B[39;00m \u001B[38;5;21;01mgo\u001B[39;00m\n\u001B[0;32m     19\u001B[0m \u001B[38;5;28;01mimport\u001B[39;00m \u001B[38;5;21;01mplotly\u001B[39;00m\u001B[38;5;21;01m.\u001B[39;00m\u001B[38;5;21;01mexpress\u001B[39;00m \u001B[38;5;28;01mas\u001B[39;00m \u001B[38;5;21;01mpx\u001B[39;00m\n",
      "\u001B[1;31mModuleNotFoundError\u001B[0m: No module named 'networkx'"
     ]
    }
   ],
   "source": [
    "import os\n",
    "\n",
    "import random\n",
    "import datetime\n",
    "import ast\n",
    "\n",
    "import pandas as pd\n",
    "import datetime\n",
    "import requests\n",
    "\n",
    "import numpy as np\n",
    "import pandas as pd\n",
    "\n",
    "\n",
    "import matplotlib.pyplot as plt\n",
    "import matplotlib.dates as mdates\n",
    "import networkx as nx\n",
    "import plotly.graph_objects as go\n",
    "import plotly.express as px\n",
    "\n",
    "pd.set_option('display.max_columns', None)\n",
    "incidents_df = pd.read_csv('incidents_nonlinear.csv')\n",
    "assets_df = pd.read_csv('assets_nonlinear.csv')\n",
    "vulnerabilities_df = pd.read_csv('vulnerabilities_nonlinear.csv')"
   ]
  },
  {
   "cell_type": "code",
   "execution_count": null,
   "id": "922fdff9-5f3f-4800-8141-d2b6cb2711f8",
   "metadata": {
    "ExecuteTime": {
     "start_time": "2023-12-19T08:43:59.488073Z"
    }
   },
   "outputs": [],
   "source": [
    "# второй график\n",
    "# плотность распределения по цвсс_рейтингу"
   ]
  },
  {
   "cell_type": "code",
   "execution_count": null,
   "id": "050f185f-e297-4e1f-b7fb-43057ad2772a",
   "metadata": {
    "ExecuteTime": {
     "start_time": "2023-12-19T08:43:59.493966600Z"
    }
   },
   "outputs": [],
   "source": [
    "def strtolist(date: str):\n",
    "    rez = []\n",
    "    itr = date.replace(\"[\", '').replace(\"]\", '').replace(\",\", '').replace(\" \", '')\n",
    "    for i in range(0, len(itr), 5):\n",
    "        rez.append(int(itr[i:i+5]))\n",
    "    return rez\n",
    "incidents_df"
   ]
  },
  {
   "cell_type": "code",
   "execution_count": null,
   "id": "68ddef34-f6f7-4aea-b62b-ef4d92150754",
   "metadata": {
    "ExecuteTime": {
     "end_time": "2023-12-19T08:43:59.559690900Z",
     "start_time": "2023-12-19T08:43:59.499115300Z"
    }
   },
   "outputs": [],
   "source": [
    "incidents_df['vulnerabilities_id'] = incidents_df['vulnerabilities_id'].apply(lambda x: strtolist(x))"
   ]
  },
  {
   "cell_type": "code",
   "execution_count": null,
   "id": "6f22aee1-a3b4-4122-a6ea-1a4c692d67cd",
   "metadata": {
    "ExecuteTime": {
     "start_time": "2023-12-19T08:43:59.504452700Z"
    }
   },
   "outputs": [],
   "source": [
    "def sumcvss(row):\n",
    "    cvss = 0\n",
    "    for i in range(len(row)):\n",
    "        cvss += vulnerabilities_df.loc[vulnerabilities_df['id'] == row[i]].values[0][2] / len(row)      \n",
    "        print(i)\n",
    "    return cvss"
   ]
  },
  {
   "cell_type": "code",
   "execution_count": 3,
   "id": "aa29fe77-cac1-4ec3-aa99-d5d442403426",
   "metadata": {
    "ExecuteTime": {
     "start_time": "2023-12-19T08:43:59.512326200Z"
    }
   },
   "outputs": [
    {
     "ename": "NameError",
     "evalue": "name 'incidents_df' is not defined",
     "output_type": "error",
     "traceback": [
      "\u001B[1;31m---------------------------------------------------------------------------\u001B[0m",
      "\u001B[1;31mNameError\u001B[0m                                 Traceback (most recent call last)",
      "Cell \u001B[1;32mIn[3], line 5\u001B[0m\n\u001B[0;32m      1\u001B[0m cvss_rate \u001B[38;5;241m=\u001B[39m []\n\u001B[0;32m      2\u001B[0m \u001B[38;5;66;03m# print(incidents_df['vulnerabilities_id'][0], '1')\u001B[39;00m\n\u001B[0;32m      3\u001B[0m \u001B[38;5;66;03m# sumcvss(incidents_df['vulnerabilities_id'][0])\u001B[39;00m\n\u001B[0;32m      4\u001B[0m \u001B[38;5;66;03m# print(type(vulnerabilities_df['id'][1]))\u001B[39;00m\n\u001B[1;32m----> 5\u001B[0m \u001B[38;5;28;01mfor\u001B[39;00m row \u001B[38;5;129;01min\u001B[39;00m \u001B[38;5;28mrange\u001B[39m(\u001B[38;5;28mlen\u001B[39m(\u001B[43mincidents_df\u001B[49m)):\n\u001B[0;32m      6\u001B[0m     cvss_rate\u001B[38;5;241m.\u001B[39mappend(sumcvss(incidents_df[\u001B[38;5;124m'\u001B[39m\u001B[38;5;124mvulnerabilities_id\u001B[39m\u001B[38;5;124m'\u001B[39m][row]))\n\u001B[0;32m      7\u001B[0m \u001B[38;5;66;03m# print(cvss_rate)\u001B[39;00m\n",
      "\u001B[1;31mNameError\u001B[0m: name 'incidents_df' is not defined"
     ]
    }
   ],
   "source": [
    "cvss_rate = []\n",
    "# print(incidents_df['vulnerabilities_id'][0], '1')\n",
    "# sumcvss(incidents_df['vulnerabilities_id'][0])\n",
    "# print(type(vulnerabilities_df['id'][1]))\n",
    "for row in range(len(incidents_df)):\n",
    "    cvss_rate.append(sumcvss(incidents_df['vulnerabilities_id'][row]))\n",
    "# print(cvss_rate)\n",
    "incidents_df['cvss_sumrate'] = cvss_rate\n",
    "print((incidents_df['vulnerabilities_id'][row]))"
   ]
  },
  {
   "cell_type": "code",
   "execution_count": 4,
   "id": "44955216-f2f0-4dd1-82b5-01e2a81011e6",
   "metadata": {
    "ExecuteTime": {
     "end_time": "2023-12-19T08:43:59.635177900Z",
     "start_time": "2023-12-19T08:43:59.587934Z"
    }
   },
   "outputs": [
    {
     "ename": "NameError",
     "evalue": "name 'incidents_df' is not defined",
     "output_type": "error",
     "traceback": [
      "\u001B[1;31m---------------------------------------------------------------------------\u001B[0m",
      "\u001B[1;31mNameError\u001B[0m                                 Traceback (most recent call last)",
      "Cell \u001B[1;32mIn[4], line 1\u001B[0m\n\u001B[1;32m----> 1\u001B[0m \u001B[43mincidents_df\u001B[49m\n",
      "\u001B[1;31mNameError\u001B[0m: name 'incidents_df' is not defined"
     ]
    }
   ],
   "source": [
    "incidents_df"
   ]
  },
  {
   "cell_type": "code",
   "execution_count": null,
   "id": "e2aa29ca-27cf-4dd0-a554-795ca8ad22bf",
   "metadata": {
    "ExecuteTime": {
     "start_time": "2023-12-19T08:43:59.630715900Z"
    }
   },
   "outputs": [],
   "source": [
    "incidents_df['start_time'] = pd.to_datetime(incidents_df['start_time'])\n",
    "incidents_df.sort_values(by='start_time', inplace=True)\n",
    "incidents_df.plot.scatter(x=\"start_time\", y=\"cvss_sumrate\", marker = '.', figsize=(43,15))\n",
    "\n",
    "plt.show()\n",
    "print('1')"
   ]
  },
  {
   "cell_type": "code",
   "execution_count": 5,
   "id": "8fe339d8-67bb-4ac5-aa89-6f7de8b4144e",
   "metadata": {
    "ExecuteTime": {
     "end_time": "2023-12-19T08:43:59.724329700Z",
     "start_time": "2023-12-19T08:43:59.642209800Z"
    }
   },
   "outputs": [],
   "source": [
    "# вывод в период с 29 по 01 было много цвсс рейтинга!!!!! значит там было очень плохо."
   ]
  }
 ],
 "metadata": {
  "kernelspec": {
   "display_name": "Python 3 (ipykernel)",
   "language": "python",
   "name": "python3"
  },
  "language_info": {
   "codemirror_mode": {
    "name": "ipython",
    "version": 3
   },
   "file_extension": ".py",
   "mimetype": "text/x-python",
   "name": "python",
   "nbconvert_exporter": "python",
   "pygments_lexer": "ipython3",
   "version": "3.9.12"
  }
 },
 "nbformat": 4,
 "nbformat_minor": 5
}
